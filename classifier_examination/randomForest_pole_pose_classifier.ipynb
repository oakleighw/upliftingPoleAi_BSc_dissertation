{
  "nbformat": 4,
  "nbformat_minor": 0,
  "metadata": {
    "colab": {
      "name": "randomForestPoleClassifier.ipynb",
      "provenance": [],
      "collapsed_sections": []
    },
    "kernelspec": {
      "name": "python3",
      "display_name": "Python 3"
    },
    "language_info": {
      "name": "python"
    }
  },
  "cells": [
    {
      "cell_type": "markdown",
      "source": [
        "#This code assesses efficiency of Random Forest in classifying pole moves based on landmarks."
      ],
      "metadata": {
        "id": "PRyc4FquvYrc"
      }
    },
    {
      "cell_type": "code",
      "execution_count": null,
      "metadata": {
        "colab": {
          "base_uri": "https://localhost:8080/"
        },
        "id": "uUj5LgaAVlOs",
        "outputId": "1bf14dc3-9b6c-4dfd-a837-4b4f10ea7792"
      },
      "outputs": [
        {
          "output_type": "stream",
          "name": "stdout",
          "text": [
            "Drive already mounted at /content/gdrive; to attempt to forcibly remount, call drive.mount(\"/content/gdrive\", force_remount=True).\n"
          ]
        }
      ],
      "source": [
        "#mount drive\n",
        "from google.colab import drive\n",
        "drive.mount('/content/gdrive')"
      ]
    },
    {
      "cell_type": "code",
      "source": [
        "import pandas as pd\n",
        "dataFrame = pd.read_csv('/content/gdrive/MyDrive/pointYourPoseResearchColabs/pole_poses_no_outliers_csvs_out.csv')\n",
        "dataFrame.head\n",
        "#image name/ class/ features"
      ],
      "metadata": {
        "colab": {
          "base_uri": "https://localhost:8080/"
        },
        "id": "FCHACkHsVtV8",
        "outputId": "17324e1a-9a4f-4528-b1fb-c139785fb268"
      },
      "execution_count": null,
      "outputs": [
        {
          "output_type": "execute_result",
          "data": {
            "text/plain": [
              "<bound method NDFrame.head of         scissor0.jpg  scissorSit  2006.8503   1624.0208   -1593.3456  \\\n",
              "0       scissor1.jpg  scissorSit  881.01940   465.64685 -1102.504800   \n",
              "1      scissor10.jpg  scissorSit  871.43475   346.31360  -371.125520   \n",
              "2     scissor100.jpg  scissorSit  723.19904   717.09906   344.332240   \n",
              "3     scissor103.jpg  scissorSit  549.72577   701.38980  -650.752800   \n",
              "4     scissor105.jpg  scissorSit  515.79614   731.90936  -343.087800   \n",
              "..               ...         ...        ...         ...          ...   \n",
              "303  butterfly95.jpg   butterfly  631.13680  1186.53310  -155.513810   \n",
              "304  butterfly96.jpg   butterfly  590.69550  1175.36610    35.266754   \n",
              "305  butterfly97.jpg   butterfly  647.99646  1154.53630  -223.326800   \n",
              "306  butterfly98.jpg   butterfly  682.30255  1119.04960  -431.599900   \n",
              "307  butterfly99.jpg   butterfly  660.48816  1113.01890  -230.266570   \n",
              "\n",
              "     2072.7856   1626.0464   -1594.366  2084.7407    1639.284  ...  \\\n",
              "0    913.37900   472.28815 -1108.68620  915.61030   480.49387  ...   \n",
              "1    876.06116   356.15137  -340.92517  874.56067   360.76800  ...   \n",
              "2    735.15570   707.39923   342.95862  739.82490   707.60560  ...   \n",
              "3    560.00990   691.04083  -625.64410  566.80634   692.50946  ...   \n",
              "4    522.86930   716.04650  -308.31020  529.19370   716.47864  ...   \n",
              "..         ...         ...         ...        ...         ...  ...   \n",
              "303  623.63790  1212.08750  -147.61142  615.70650  1215.99770  ...   \n",
              "304  585.97000  1197.59300    45.67611  579.46120  1201.28400  ...   \n",
              "305  641.64600  1176.21480  -196.34369  633.09894  1179.95620  ...   \n",
              "306  676.93915  1137.74830  -399.11465  669.88780  1140.59700  ...   \n",
              "307  656.61990  1128.38940  -198.46527  650.74190  1130.80180  ...   \n",
              "\n",
              "     -1139.3314  1260.5076    658.7033   -852.5819   1672.7751  3485.9194  \\\n",
              "0     492.49380  296.22833   584.79407   -6.395708  347.273070  449.70330   \n",
              "1     -62.52512  225.77562   313.62380  228.105850  313.917000  644.53937   \n",
              "2    -212.14601  382.51020  1095.14990  195.772660  377.678600  681.03094   \n",
              "3    -330.80865  704.37380  1188.74450 -604.134460  541.928100  776.68475   \n",
              "4    -373.60486  765.19073  1249.40550 -859.077500  601.588560  655.93100   \n",
              "..          ...        ...         ...         ...         ...        ...   \n",
              "303   198.01416  649.83260   447.75854  547.680660   -6.545867  889.24866   \n",
              "304   186.42920  552.18410   509.10370  389.138300   32.728497  843.87620   \n",
              "305   516.25940  752.46700   428.14200  377.284580  213.937650  770.97280   \n",
              "306   647.05680  752.09830   350.44772   61.069084  308.734920  715.19293   \n",
              "307   478.77484  757.26060   408.72122  199.886580  195.980210  518.72350   \n",
              "\n",
              "     -1381.9805  1649.2949   505.98077  -1090.3063  \n",
              "0     370.47382  229.82236   639.37244  -206.83385  \n",
              "1    -187.28145  192.16997   274.37183    75.10196  \n",
              "2    -253.43442  328.18810  1085.01180   177.45747  \n",
              "3    -452.60297  776.37195  1194.41580  -735.44836  \n",
              "4    -440.18118  826.71120  1272.03630  -974.23340  \n",
              "..          ...        ...         ...         ...  \n",
              "303   277.38492  713.50903   378.04132   481.04807  \n",
              "304   366.27927  663.93740   441.77347   385.16904  \n",
              "305   708.11554  847.43420   374.86127   340.46735  \n",
              "306   719.91644  864.78217   261.13530  -133.04298  \n",
              "307   446.35394  859.79880   348.58078    51.62483  \n",
              "\n",
              "[308 rows x 101 columns]>"
            ]
          },
          "metadata": {},
          "execution_count": 27
        }
      ]
    },
    {
      "cell_type": "code",
      "source": [
        "import numpy as np\n",
        "from sklearn import preprocessing\n",
        "#get labels\n",
        "labels = dataFrame.iloc[:,1]\n",
        "\n",
        "#code labels\n",
        "le = preprocessing.LabelEncoder()\n",
        "le.fit(labels)\n",
        "\n",
        "numLabels = le.transform(labels)\n",
        "print(np.unique(numLabels))\n",
        "print(le.classes_)\n",
        "features = dataFrame.iloc[:,2:]"
      ],
      "metadata": {
        "colab": {
          "base_uri": "https://localhost:8080/"
        },
        "id": "jRJ70yNDWnSw",
        "outputId": "bec1c417-74b7-4977-f3b6-900568f5c145"
      },
      "execution_count": null,
      "outputs": [
        {
          "output_type": "stream",
          "name": "stdout",
          "text": [
            "[0 1 2]\n",
            "['butterfly' 'scissorSit' 'superman']\n"
          ]
        }
      ]
    },
    {
      "cell_type": "markdown",
      "source": [
        "# Random Forests"
      ],
      "metadata": {
        "id": "aNtPoP9RfQDM"
      }
    },
    {
      "cell_type": "code",
      "source": [
        "from sklearn import ensemble\n",
        "\n",
        "#enter forests with numberss of trees wishing to evaluate here\n",
        "treeNo = [5,10,50,100,1000,10000]\n",
        "\n",
        "forests = []\n",
        "i = 0 #iterator\n",
        "\n",
        "#add forests of different sizes to 'forests' list\n",
        "for tree in treeNo:\n",
        "  ranForest = ensemble.RandomForestClassifier(n_estimators=treeNo[i], min_samples_leaf=10, max_depth=None)\n",
        "  forests.append(ranForest)\n",
        "  i = i+1\n"
      ],
      "metadata": {
        "id": "_x7SStBBXu5Q"
      },
      "execution_count": null,
      "outputs": []
    },
    {
      "cell_type": "code",
      "source": [
        "from sklearn import metrics\n",
        "from sklearn.metrics import f1_score\n",
        "from sklearn.model_selection import KFold\n",
        "from sklearn.model_selection import cross_val_score\n",
        "from sklearn.metrics import make_scorer\n",
        "\n",
        "i = 0 #iterator\n",
        "\n",
        "\n",
        "#kfolds\n",
        "kf = KFold(n_splits=10, random_state = 1, shuffle=True)\n",
        "\n",
        "fResults = []\n",
        "#get accuracy  Scores in all kfolds per tree\n",
        "for forest in forests:\n",
        "  f = np.mean(cross_val_score(forest, features, numLabels, cv=kf))\n",
        "  fResults.append(f)\n",
        "  print(str(treeNo[i]),'trees accuracy score:', f)\n",
        "  i = i+1\n",
        "\n",
        "#find best tree result\n",
        "#get index\n",
        "bestAcc = (np.where(fResults == np.max(fResults)))[0][0]\n",
        "\n",
        "#print best score\n",
        "print('Best Forest:', str(treeNo[bestAcc]), 'trees', 'with an accuracy of', np.max(fResults))"
      ],
      "metadata": {
        "colab": {
          "base_uri": "https://localhost:8080/"
        },
        "id": "Z4Oo8kwjbLeF",
        "outputId": "4c318026-e215-4a0a-dbf8-bbbc990144de"
      },
      "execution_count": null,
      "outputs": [
        {
          "output_type": "stream",
          "name": "stdout",
          "text": [
            "5 trees accuracy score: 0.8477419354838709\n",
            "10 trees accuracy score: 0.8345161290322579\n",
            "50 trees accuracy score: 0.873225806451613\n",
            "100 trees accuracy score: 0.8700000000000001\n",
            "1000 trees accuracy score: 0.8635483870967742\n",
            "10000 trees accuracy score: 0.8700000000000001\n",
            "Best Forest: 50 trees with an accuracy of 0.873225806451613\n"
          ]
        }
      ]
    },
    {
      "cell_type": "code",
      "source": [
        "#split data 30% test 70% train (For best tree confusion matrix)\n",
        "from sklearn.model_selection import train_test_split\n",
        "X_train, X_test, y_train, y_test = train_test_split(features, numLabels, test_size=0.3)"
      ],
      "metadata": {
        "id": "TtkZFobUYCNP"
      },
      "execution_count": null,
      "outputs": []
    },
    {
      "cell_type": "code",
      "source": [
        "from sklearn.metrics import confusion_matrix\n",
        "from sklearn.metrics import plot_confusion_matrix\n",
        "import seaborn as sn\n",
        "import matplotlib.pyplot as plt\n",
        "from sklearn.metrics import accuracy_score\n",
        "#get predictions of best Tree\n",
        "forests[bestAcc].fit(X_train,y_train)\n",
        "y_pred = forests[bestAcc].predict(X_test)\n",
        "title = str(treeNo[bestAcc]) + \" Tree Forest Test Confusion Matrix\"\n",
        "\n",
        "print(str(treeNo[bestAcc]),'trees accuracy score:', str(accuracy_score(y_test,y_pred)))\n",
        "\n",
        "#confusion matrix\n",
        "classLabels = le.classes_\n",
        "the_matrix = confusion_matrix(y_pred, y_test, labels=np.unique(numLabels))\n",
        "print(the_matrix)\n",
        "\n",
        "df_cfm = pd.DataFrame(the_matrix, index = classLabels, columns = classLabels)\n",
        "plt.figure(figsize = (10,7))\n",
        "cfm_plot = sn.heatmap(df_cfm, annot=True, fmt='g')\n",
        "cfm_plot.set_title(title)\n",
        "cfm_plot.set_xlabel('Predicted')\n",
        "cfm_plot.set_ylabel('True Label')\n",
        "#cfm_plot.figure.savefig(\"cfm.png\")"
      ],
      "metadata": {
        "colab": {
          "base_uri": "https://localhost:8080/",
          "height": 545
        },
        "id": "7iY-erbxgN7W",
        "outputId": "f8d2ebf2-f0bb-4e78-8e98-c7c9a950bb70"
      },
      "execution_count": null,
      "outputs": [
        {
          "output_type": "stream",
          "name": "stdout",
          "text": [
            "50 trees accuracy score: 0.8602150537634409\n",
            "[[41  1  0]\n",
            " [ 1 16  3]\n",
            " [ 3  5 23]]\n"
          ]
        },
        {
          "output_type": "execute_result",
          "data": {
            "text/plain": [
              "Text(69.0, 0.5, 'True Label')"
            ]
          },
          "metadata": {},
          "execution_count": 32
        },
        {
          "output_type": "display_data",
          "data": {
            "text/plain": [
              "<Figure size 720x504 with 2 Axes>"
            ],
            "image/png": "[encoded data removed]"
          },
          "metadata": {
            "needs_background": "light"
          }
        }
      ]
    },
    {
      "cell_type": "markdown",
      "source": [
        "#Completely OOS "
      ],
      "metadata": {
        "id": "e6fKRAxgO4MZ"
      }
    },
    {
      "cell_type": "code",
      "source": [
        "oosTestdf = pd.read_csv('/content/gdrive/MyDrive/pointYourPoseResearchColabs/poleTestCsvOut.csv',header=None)"
      ],
      "metadata": {
        "id": "nzhwJ6E8Ox9c"
      },
      "execution_count": null,
      "outputs": []
    },
    {
      "cell_type": "code",
      "source": [
        "#get labels\n",
        "testlabels = oosTestdf.iloc[:,1]\n",
        "\n",
        "#code labels\n",
        "leT = preprocessing.LabelEncoder()\n",
        "leT.fit(labels)\n",
        "\n",
        "testNumLabels = leT.transform(testlabels)\n",
        "print(np.unique(testNumLabels))\n",
        "print(leT.classes_)\n",
        "testFeatures = oosTestdf.iloc[:,2:]"
      ],
      "metadata": {
        "colab": {
          "base_uri": "https://localhost:8080/"
        },
        "id": "_5Ukv5XzO_vU",
        "outputId": "396cb49c-0110-4188-d4f3-ac0c9df77ddf"
      },
      "execution_count": null,
      "outputs": [
        {
          "output_type": "stream",
          "name": "stdout",
          "text": [
            "[0 1 2]\n",
            "['butterfly' 'scissorSit' 'superman']\n"
          ]
        }
      ]
    },
    {
      "cell_type": "code",
      "source": [
        "#ANN OOS\n",
        "y_pred = forests[bestAcc].predict(testFeatures)\n",
        "title = str(treeNo[bestAcc]) + \"Tree Forest OOS Confusion Matrix\"\n",
        "\n",
        "#confusion matrix\n",
        "classLabels = leT.classes_\n",
        "the_matrix = confusion_matrix(y_pred, testNumLabels, labels=np.unique(testNumLabels))\n",
        "print(the_matrix)\n",
        "\n",
        "print(str(treeNo[bestAcc]), \"Tree Forest OOS Accuracy:\", str(accuracy_score(testNumLabels, y_pred)))\n",
        "\n",
        "df_cfm = pd.DataFrame(the_matrix, index = classLabels, columns = classLabels)\n",
        "plt.figure(figsize = (10,7))\n",
        "cfm_plot = sn.heatmap(df_cfm, annot=True, fmt='g')\n",
        "cfm_plot.set_title(title)\n",
        "cfm_plot.set_xlabel('Predicted')\n",
        "cfm_plot.set_ylabel('True Label')"
      ],
      "metadata": {
        "colab": {
          "base_uri": "https://localhost:8080/",
          "height": 600
        },
        "id": "tyl3LLG4PCYh",
        "outputId": "5a97fa73-6b92-4613-8536-5b43b8ba5de0"
      },
      "execution_count": null,
      "outputs": [
        {
          "output_type": "stream",
          "name": "stdout",
          "text": [
            "[[31  0  1]\n",
            " [ 0 10  4]\n",
            " [ 0 19  7]]\n",
            "50 Tree Forest OOS Accuracy: 0.6666666666666666\n"
          ]
        },
        {
          "output_type": "stream",
          "name": "stderr",
          "text": [
            "/usr/local/lib/python3.7/dist-packages/sklearn/base.py:451: UserWarning: X does not have valid feature names, but RandomForestClassifier was fitted with feature names\n",
            "  \"X does not have valid feature names, but\"\n"
          ]
        },
        {
          "output_type": "execute_result",
          "data": {
            "text/plain": [
              "Text(69.0, 0.5, 'True Label')"
            ]
          },
          "metadata": {},
          "execution_count": 35
        },
        {
          "output_type": "display_data",
          "data": {
            "text/plain": [
              "<Figure size 720x504 with 2 Axes>"
            ],
            "image/png": "[encoded data removed]"
          },
          "metadata": {
            "needs_background": "light"
          }
        }
      ]
    }
  ]
}