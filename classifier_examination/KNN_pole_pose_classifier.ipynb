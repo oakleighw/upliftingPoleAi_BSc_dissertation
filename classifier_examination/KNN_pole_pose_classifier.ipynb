{
  "nbformat": 4,
  "nbformat_minor": 0,
  "metadata": {
    "colab": {
      "name": "KNNPoleClassifier.ipynb",
      "provenance": []
    },
    "kernelspec": {
      "name": "python3",
      "display_name": "Python 3"
    },
    "language_info": {
      "name": "python"
    }
  },
  "cells": [
    {
      "cell_type": "markdown",
      "source": [
        "#This code assesses efficiency of KNN in classifying pole moves based on landmarks."
      ],
      "metadata": {
        "id": "vCehpdFawNZK"
      }
    },
    {
      "cell_type": "code",
      "execution_count": null,
      "metadata": {
        "colab": {
          "base_uri": "https://localhost:8080/"
        },
        "id": "dT2MD62c-gon",
        "outputId": "bba70dd9-f06c-4f45-85d0-9edc8762e629"
      },
      "outputs": [
        {
          "output_type": "stream",
          "name": "stdout",
          "text": [
            "Drive already mounted at /content/gdrive; to attempt to forcibly remount, call drive.mount(\"/content/gdrive\", force_remount=True).\n"
          ]
        }
      ],
      "source": [
        "#mount drive\n",
        "from google.colab import drive\n",
        "drive.mount('/content/gdrive')"
      ]
    },
    {
      "cell_type": "code",
      "source": [
        "import pandas as pd\n",
        "dataFrame = pd.read_csv('/content/gdrive/MyDrive/pointYourPoseResearchColabs/pole_poses_no_outliers_csvs_out.csv',header=None)\n",
        "dataFrame.head\n",
        "#image name/ class/ features"
      ],
      "metadata": {
        "colab": {
          "base_uri": "https://localhost:8080/"
        },
        "id": "f6oVEH9Y-mcA",
        "outputId": "11dcf01e-17f9-4dc1-b2fe-580ef7c5a0cc"
      },
      "execution_count": null,
      "outputs": [
        {
          "output_type": "execute_result",
          "data": {
            "text/plain": [
              "<bound method NDFrame.head of                  0           1           2           3            4    \\\n",
              "0       scissor0.jpg  scissorSit  2006.85030  1624.02080 -1593.345600   \n",
              "1       scissor1.jpg  scissorSit   881.01940   465.64685 -1102.504800   \n",
              "2      scissor10.jpg  scissorSit   871.43475   346.31360  -371.125520   \n",
              "3     scissor100.jpg  scissorSit   723.19904   717.09906   344.332240   \n",
              "4     scissor103.jpg  scissorSit   549.72577   701.38980  -650.752800   \n",
              "..               ...         ...         ...         ...          ...   \n",
              "304  butterfly95.jpg   butterfly   631.13680  1186.53310  -155.513810   \n",
              "305  butterfly96.jpg   butterfly   590.69550  1175.36610    35.266754   \n",
              "306  butterfly97.jpg   butterfly   647.99646  1154.53630  -223.326800   \n",
              "307  butterfly98.jpg   butterfly   682.30255  1119.04960  -431.599900   \n",
              "308  butterfly99.jpg   butterfly   660.48816  1113.01890  -230.266570   \n",
              "\n",
              "            5           6           7           8           9    ...  \\\n",
              "0    2072.78560  1626.04640 -1594.36600  2084.74070  1639.28400  ...   \n",
              "1     913.37900   472.28815 -1108.68620   915.61030   480.49387  ...   \n",
              "2     876.06116   356.15137  -340.92517   874.56067   360.76800  ...   \n",
              "3     735.15570   707.39923   342.95862   739.82490   707.60560  ...   \n",
              "4     560.00990   691.04083  -625.64410   566.80634   692.50946  ...   \n",
              "..          ...         ...         ...         ...         ...  ...   \n",
              "304   623.63790  1212.08750  -147.61142   615.70650  1215.99770  ...   \n",
              "305   585.97000  1197.59300    45.67611   579.46120  1201.28400  ...   \n",
              "306   641.64600  1176.21480  -196.34369   633.09894  1179.95620  ...   \n",
              "307   676.93915  1137.74830  -399.11465   669.88780  1140.59700  ...   \n",
              "308   656.61990  1128.38940  -198.46527   650.74190  1130.80180  ...   \n",
              "\n",
              "            91          92          93          94           95          96   \\\n",
              "0   -1139.33140  1260.50760   658.70330 -852.581900  1672.775100  3485.91940   \n",
              "1     492.49380   296.22833   584.79407   -6.395708   347.273070   449.70330   \n",
              "2     -62.52512   225.77562   313.62380  228.105850   313.917000   644.53937   \n",
              "3    -212.14601   382.51020  1095.14990  195.772660   377.678600   681.03094   \n",
              "4    -330.80865   704.37380  1188.74450 -604.134460   541.928100   776.68475   \n",
              "..          ...         ...         ...         ...          ...         ...   \n",
              "304   198.01416   649.83260   447.75854  547.680660    -6.545867   889.24866   \n",
              "305   186.42920   552.18410   509.10370  389.138300    32.728497   843.87620   \n",
              "306   516.25940   752.46700   428.14200  377.284580   213.937650   770.97280   \n",
              "307   647.05680   752.09830   350.44772   61.069084   308.734920   715.19293   \n",
              "308   478.77484   757.26060   408.72122  199.886580   195.980210   518.72350   \n",
              "\n",
              "            97          98          99          100  \n",
              "0   -1381.98050  1649.29490   505.98077 -1090.30630  \n",
              "1     370.47382   229.82236   639.37244  -206.83385  \n",
              "2    -187.28145   192.16997   274.37183    75.10196  \n",
              "3    -253.43442   328.18810  1085.01180   177.45747  \n",
              "4    -452.60297   776.37195  1194.41580  -735.44836  \n",
              "..          ...         ...         ...         ...  \n",
              "304   277.38492   713.50903   378.04132   481.04807  \n",
              "305   366.27927   663.93740   441.77347   385.16904  \n",
              "306   708.11554   847.43420   374.86127   340.46735  \n",
              "307   719.91644   864.78217   261.13530  -133.04298  \n",
              "308   446.35394   859.79880   348.58078    51.62483  \n",
              "\n",
              "[309 rows x 101 columns]>"
            ]
          },
          "metadata": {},
          "execution_count": 37
        }
      ]
    },
    {
      "cell_type": "code",
      "source": [
        "import numpy as np\n",
        "from sklearn import preprocessing\n",
        "#get labels\n",
        "labels = dataFrame.iloc[:,1]\n",
        "\n",
        "#code labels\n",
        "le = preprocessing.LabelEncoder()\n",
        "le.fit(labels)\n",
        "\n",
        "numLabels = le.transform(labels)\n",
        "print(np.unique(numLabels))\n",
        "print(le.classes_)\n",
        "features = dataFrame.iloc[:,2:]"
      ],
      "metadata": {
        "colab": {
          "base_uri": "https://localhost:8080/"
        },
        "id": "8ByJeJQ_-paY",
        "outputId": "758ea0ab-2551-4f7e-aacc-a38f32a5ebf1"
      },
      "execution_count": null,
      "outputs": [
        {
          "output_type": "stream",
          "name": "stdout",
          "text": [
            "[0 1 2]\n",
            "['butterfly' 'scissorSit' 'superman']\n"
          ]
        }
      ]
    },
    {
      "cell_type": "markdown",
      "source": [
        "# K-Nearest-Neighbour"
      ],
      "metadata": {
        "id": "zzDBNrE7-t0p"
      }
    },
    {
      "cell_type": "code",
      "source": [
        "#split data 30% test 70% train\n",
        "from sklearn.model_selection import train_test_split\n",
        "X_train, X_test, y_train, y_test = train_test_split(features, numLabels, test_size=0.3)"
      ],
      "metadata": {
        "id": "Hj1p18jnA2sG"
      },
      "execution_count": null,
      "outputs": []
    },
    {
      "cell_type": "markdown",
      "source": [
        "Find Best K value"
      ],
      "metadata": {
        "id": "Kwdbr0LtEv3-"
      }
    },
    {
      "cell_type": "code",
      "source": [
        "import matplotlib.pyplot as plt\n",
        "from sklearn.neighbors import KNeighborsClassifier\n",
        "\n",
        "#find best value range for k\n",
        "trainError= []\n",
        "testError= []\n",
        "for k in range(1,10):\n",
        "    knn= KNeighborsClassifier(n_neighbors=k)\n",
        "    knn.fit(X_train,y_train)\n",
        "    y_pred1= knn.predict(X_train)\n",
        "    trainError.append(np.mean(y_train!= y_pred1))\n",
        "    y_pred2= knn.predict(X_test)\n",
        "    testError.append(np.mean(y_test!= y_pred2))\n",
        "\n",
        "plt.plot(range(1,10),trainError,label=\"train\")\n",
        "plt.plot(range(1,10),testError,label=\"test\")\n",
        "plt.xlabel('k Value')\n",
        "plt.ylabel('Error')\n",
        "plt.legend()"
      ],
      "metadata": {
        "colab": {
          "base_uri": "https://localhost:8080/",
          "height": 296
        },
        "id": "1ojCpnXG-rZU",
        "outputId": "506dd732-e72b-492c-f296-fe23e8372ae2"
      },
      "execution_count": null,
      "outputs": [
        {
          "output_type": "execute_result",
          "data": {
            "text/plain": [
              "<matplotlib.legend.Legend at 0x7fc7007b0cd0>"
            ]
          },
          "metadata": {},
          "execution_count": 40
        },
        {
          "output_type": "display_data",
          "data": {
            "text/plain": [
              "<Figure size 432x288 with 1 Axes>"
            ],
            "image/png": "[encoded data removed]"
          },
          "metadata": {
            "needs_background": "light"
          }
        }
      ]
    },
    {
      "cell_type": "markdown",
      "source": [
        "Find best K-Folds accuracy Score for range 3-5 where k error for both test and train is low"
      ],
      "metadata": {
        "id": "96dRVTzxEy47"
      }
    },
    {
      "cell_type": "code",
      "source": [
        "from sklearn import metrics\n",
        "from sklearn.model_selection import KFold\n",
        "from sklearn.model_selection import cross_val_score\n",
        "import matplotlib.pyplot as plt\n",
        "from sklearn.neighbors import KNeighborsClassifier\n",
        "\n",
        "i = 0 #iterator\n",
        "\n",
        "\n",
        "#kfolds\n",
        "kf = KFold(n_splits=10, random_state = 1, shuffle=True)\n",
        "\n",
        "fResults = []\n",
        "\n",
        "#get accuracies in k 3-5\n",
        "for k in range(3,6):\n",
        "  knn= KNeighborsClassifier(n_neighbors=k)\n",
        "  f = np.mean(cross_val_score(knn, features, numLabels, cv=kf))\n",
        "  fResults.append(f)\n",
        "  print(str(k),'NN accuracy score:', f)\n",
        "\n",
        "#find best tree result\n",
        "#get index\n",
        "bestAcc = (np.where(fResults == np.max(fResults)))[0][0]\n",
        "\n",
        "#print best score (add 3 as we start to analyze best K from 3)\n",
        "print('Best KNN:', str(bestAcc + 3), 'NN', 'with an accuracy of', np.max(fResults))\n",
        "\n",
        "plt.plot(range(3,6),fResults)\n",
        "plt.xlabel('k Value')"
      ],
      "metadata": {
        "colab": {
          "base_uri": "https://localhost:8080/",
          "height": 366
        },
        "id": "UDD8vKNWDDEI",
        "outputId": "d2728741-b51c-407f-9631-c11924a5587d"
      },
      "execution_count": null,
      "outputs": [
        {
          "output_type": "stream",
          "name": "stdout",
          "text": [
            "3 NN accuracy score: 0.9030107526881721\n",
            "4 NN accuracy score: 0.906236559139785\n",
            "5 NN accuracy score: 0.8965591397849462\n",
            "Best KNN: 4 NN with an accuracy of 0.906236559139785\n"
          ]
        },
        {
          "output_type": "execute_result",
          "data": {
            "text/plain": [
              "Text(0.5, 0, 'k Value')"
            ]
          },
          "metadata": {},
          "execution_count": 41
        },
        {
          "output_type": "display_data",
          "data": {
            "text/plain": [
              "<Figure size 432x288 with 1 Axes>"
            ],
            "image/png": "[encoded data removed]"
          },
          "metadata": {
            "needs_background": "light"
          }
        }
      ]
    },
    {
      "cell_type": "code",
      "source": [
        "from sklearn.metrics import confusion_matrix\n",
        "from sklearn.metrics import plot_confusion_matrix\n",
        "import seaborn as sn\n",
        "import matplotlib.pyplot as plt\n",
        "from sklearn.metrics import accuracy_score\n",
        "#get predictions of best KNN\n",
        "knn= KNeighborsClassifier(n_neighbors=(bestAcc + 3))\n",
        "knn.fit(X_train,y_train)\n",
        "y_pred = knn.predict(X_test)\n",
        "title = str(bestAcc + 3) + \" Nearest Neighbour Test Confusion Matrix\"\n",
        "\n",
        "\n",
        "#confusion matrix\n",
        "classLabels = le.classes_\n",
        "the_matrix = confusion_matrix(y_pred, y_test, labels=np.unique(numLabels))\n",
        "print(the_matrix)\n",
        "\n",
        "df_cfm = pd.DataFrame(the_matrix, index = classLabels, columns = classLabels)\n",
        "plt.figure(figsize = (10,7))\n",
        "cfm_plot = sn.heatmap(df_cfm, annot=True, fmt='g')\n",
        "cfm_plot.set_title(title)\n",
        "cfm_plot.set_xlabel('Predicted')\n",
        "cfm_plot.set_ylabel('True Label')\n",
        "#cfm_plot.figure.savefig(\"cfm.png\")"
      ],
      "metadata": {
        "colab": {
          "base_uri": "https://localhost:8080/",
          "height": 527
        },
        "id": "UHAa2iSDGFyF",
        "outputId": "cbf821cd-2736-436f-cedc-65eb86eb1d68"
      },
      "execution_count": null,
      "outputs": [
        {
          "output_type": "stream",
          "name": "stdout",
          "text": [
            "[[40  3  0]\n",
            " [ 1 25  6]\n",
            " [ 1  1 16]]\n"
          ]
        },
        {
          "output_type": "execute_result",
          "data": {
            "text/plain": [
              "Text(69.0, 0.5, 'True Label')"
            ]
          },
          "metadata": {},
          "execution_count": 42
        },
        {
          "output_type": "display_data",
          "data": {
            "text/plain": [
              "<Figure size 720x504 with 2 Axes>"
            ],
            "image/png": "[encoded data removed]"
          },
          "metadata": {
            "needs_background": "light"
          }
        }
      ]
    },
    {
      "cell_type": "markdown",
      "source": [
        "#Test on frames not part of training videos"
      ],
      "metadata": {
        "id": "6gPJEGSlD_BB"
      }
    },
    {
      "cell_type": "code",
      "source": [
        "oosTestdf = pd.read_csv('/content/gdrive/MyDrive/pointYourPoseResearchColabs/poleTestCsvOut.csv',header=None)\n",
        "oosTestdf.head"
      ],
      "metadata": {
        "colab": {
          "base_uri": "https://localhost:8080/"
        },
        "id": "Z5BVjv-mD8SY",
        "outputId": "1acf0c8d-04b9-470f-c9ce-176471fb5eac"
      },
      "execution_count": null,
      "outputs": [
        {
          "output_type": "execute_result",
          "data": {
            "text/plain": [
              "<bound method NDFrame.head of                     0           1          2          3           4    \\\n",
              "0     supermanTest0.jpg    superman  769.07916  840.61370  -314.27542   \n",
              "1     supermanTest1.jpg    superman  797.95605  813.78970   133.36862   \n",
              "2    supermanTest12.jpg    superman  507.41013  845.87067  -832.29400   \n",
              "3    supermanTest14.jpg    superman  491.73050  935.00340 -1663.12270   \n",
              "4     supermanTest2.jpg    superman  822.59850  788.92020  -339.69373   \n",
              "..                  ...         ...        ...        ...         ...   \n",
              "67  scissorSitTest5.jpg  scissorSit  934.22925  894.17880  -774.44870   \n",
              "68  scissorSitTest6.jpg  scissorSit  948.81770  855.78656  -590.69104   \n",
              "69  scissorSitTest7.jpg  scissorSit  948.47797  845.42550  -756.23773   \n",
              "70  scissorSitTest8.jpg  scissorSit  920.29614  841.05994  -670.33563   \n",
              "71  scissorSitTest9.jpg  scissorSit  910.21075  830.04144  -727.25037   \n",
              "\n",
              "          5          6            7          8          9    ...          91   \\\n",
              "0   785.42590  836.64400  -301.244420  786.65290  837.19714  ...   351.092440   \n",
              "1   808.48364  802.07710   106.655716  807.89954  796.60100  ...   421.865800   \n",
              "2   512.73300  827.44040  -845.733030  518.64105  824.68744  ...  1045.851700   \n",
              "3   500.83594  912.82110 -1643.841100  507.70250  913.55524  ...  1480.319100   \n",
              "4   838.99384  784.18555  -352.612520  840.14550  783.21747  ...   720.433100   \n",
              "..        ...        ...          ...        ...        ...  ...          ...   \n",
              "67  959.49585  895.76240  -752.745000  962.88605  903.28280  ...   -53.650322   \n",
              "68  976.31240  859.08575  -582.069460  979.74774  866.97910  ...  -175.860810   \n",
              "69  978.36945  850.08930  -754.185100  982.14280  858.21100  ...    31.653786   \n",
              "70  953.42000  846.36970  -679.510740  957.09060  854.46655  ...    28.847900   \n",
              "71  943.38950  833.48850  -745.410950  947.81006  841.33920  ...    64.145900   \n",
              "\n",
              "           92          93           94          95          96          97   \\\n",
              "0   100.439156   948.04470   124.968636   62.091250   978.81710   232.15700   \n",
              "1    69.409720   947.28210   125.109470   38.861473   958.76825   386.91610   \n",
              "2   212.111130   904.99335   678.751650  275.326230   952.58730  1111.84640   \n",
              "3   459.664550   752.44763  1475.894200  630.097200   771.18660  1467.08280   \n",
              "4    99.954430   888.91565   -19.986399  296.618260   874.41210   715.26086   \n",
              "..         ...         ...          ...         ...         ...         ...   \n",
              "67   35.507770  1019.85330   106.655060  188.865630  1445.87440  -358.75092   \n",
              "68   29.450012   977.70483   -37.884975  196.715120  1399.58340  -426.63270   \n",
              "69   25.969877   957.35100   105.105680  192.965420  1444.01110  -262.12445   \n",
              "70   51.420715   928.74426    95.458360  150.222120  1409.46350  -257.71765   \n",
              "71   58.079716   942.67645   137.966400  149.050770  1397.77730  -226.31523   \n",
              "\n",
              "           98          99           100  \n",
              "0    51.620850  1020.12660   -27.916107  \n",
              "1    37.657604   991.11170    40.302967  \n",
              "2   189.093930   961.43726   735.806150  \n",
              "3   442.000370   774.19885  1482.082000  \n",
              "4    50.318100   942.40590  -134.539060  \n",
              "..         ...         ...          ...  \n",
              "67   -3.795884  1002.19930  -170.132350  \n",
              "68  -17.344020   965.91720  -273.188870  \n",
              "69  -18.883760   947.96063  -170.908840  \n",
              "70   -4.193516   932.34990  -165.255520  \n",
              "71   -3.277552   936.26860  -122.958840  \n",
              "\n",
              "[72 rows x 101 columns]>"
            ]
          },
          "metadata": {},
          "execution_count": 43
        }
      ]
    },
    {
      "cell_type": "code",
      "source": [
        "#get labels\n",
        "testlabels = oosTestdf.iloc[:,1]\n",
        "\n",
        "#code labels\n",
        "leT = preprocessing.LabelEncoder()\n",
        "leT.fit(labels)\n",
        "\n",
        "testNumLabels = leT.transform(testlabels)\n",
        "print(np.unique(testNumLabels))\n",
        "print(leT.classes_)\n",
        "testFeatures = oosTestdf.iloc[:,2:]"
      ],
      "metadata": {
        "colab": {
          "base_uri": "https://localhost:8080/"
        },
        "id": "Jz5lToqwGU-t",
        "outputId": "b95449b8-810f-4887-d64c-e5a6600d0654"
      },
      "execution_count": null,
      "outputs": [
        {
          "output_type": "stream",
          "name": "stdout",
          "text": [
            "[0 1 2]\n",
            "['butterfly' 'scissorSit' 'superman']\n"
          ]
        }
      ]
    },
    {
      "cell_type": "code",
      "source": [
        "y_pred = knn.predict(testFeatures)\n",
        "title = str(bestAcc + 3) + \" Nearest Neighbour Test Confusion Matrix\"\n",
        "\n",
        "\n",
        "#confusion matrix\n",
        "classLabels = leT.classes_\n",
        "the_matrix = confusion_matrix(y_pred, testNumLabels, labels=np.unique(testNumLabels))\n",
        "print(the_matrix)\n",
        "\n",
        "print(str(bestAcc+3), \"Nearest Neighbour Accuracy:\", str(accuracy_score(testNumLabels, y_pred)))\n",
        "\n",
        "df_cfm = pd.DataFrame(the_matrix, index = classLabels, columns = classLabels)\n",
        "plt.figure(figsize = (10,7))\n",
        "cfm_plot = sn.heatmap(df_cfm, annot=True, fmt='g')\n",
        "cfm_plot.set_title(title)\n",
        "cfm_plot.set_xlabel('Predicted')\n",
        "cfm_plot.set_ylabel('True Label')"
      ],
      "metadata": {
        "colab": {
          "base_uri": "https://localhost:8080/",
          "height": 545
        },
        "id": "JAvQ3kSwG0YL",
        "outputId": "8a72a29d-4f1d-47a3-e967-2614b7c0145b"
      },
      "execution_count": null,
      "outputs": [
        {
          "output_type": "stream",
          "name": "stdout",
          "text": [
            "[[31  0  0]\n",
            " [ 0 19  0]\n",
            " [ 0 10 12]]\n",
            "4 Nearest Neighbour Accuracy: 0.8611111111111112\n"
          ]
        },
        {
          "output_type": "execute_result",
          "data": {
            "text/plain": [
              "Text(69.0, 0.5, 'True Label')"
            ]
          },
          "metadata": {},
          "execution_count": 45
        },
        {
          "output_type": "display_data",
          "data": {
            "text/plain": [
              "<Figure size 720x504 with 2 Axes>"
            ],
            "image/png": "[encoded data removed]"
          },
          "metadata": {
            "needs_background": "light"
          }
        }
      ]
    }
  ]
}