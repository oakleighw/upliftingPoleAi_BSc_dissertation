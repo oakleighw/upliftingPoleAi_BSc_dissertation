{
  "nbformat": 4,
  "nbformat_minor": 0,
  "metadata": {
    "colab": {
      "name": "SVMaNNPoleClassifier.ipynb",
      "provenance": [],
      "collapsed_sections": []
    },
    "kernelspec": {
      "name": "python3",
      "display_name": "Python 3"
    },
    "language_info": {
      "name": "python"
    }
  },
  "cells": [
    {
      "cell_type": "markdown",
      "source": [
        "#This code assesses efficiency of Support Vector Machine, Multi-layer perceptron, and logistic regression in classifying pole moves based on landmarks."
      ],
      "metadata": {
        "id": "m1icDsgQvrUo"
      }
    },
    {
      "cell_type": "code",
      "execution_count": null,
      "metadata": {
        "colab": {
          "base_uri": "https://localhost:8080/"
        },
        "id": "Z_wUB8IPw2R3",
        "outputId": "4eeb8074-58c0-4c51-cf2b-a2da31640414"
      },
      "outputs": [
        {
          "output_type": "stream",
          "name": "stdout",
          "text": [
            "Drive already mounted at /content/gdrive; to attempt to forcibly remount, call drive.mount(\"/content/gdrive\", force_remount=True).\n"
          ]
        }
      ],
      "source": [
        "#mount drive\n",
        "from google.colab import drive\n",
        "drive.mount('/content/gdrive')"
      ]
    },
    {
      "cell_type": "code",
      "source": [
        "import pandas as pd\n",
        "dataFrame = pd.read_csv('/content/gdrive/MyDrive/pointYourPoseResearchColabs/pole_poses_no_outliers_csvs_out.csv')\n",
        "dataFrame.head\n",
        "#image name/ class/ features"
      ],
      "metadata": {
        "colab": {
          "base_uri": "https://localhost:8080/"
        },
        "id": "m0t14mNpxGdA",
        "outputId": "4aa0bb91-d453-4502-c14b-e3fb4f74f94e"
      },
      "execution_count": null,
      "outputs": [
        {
          "output_type": "execute_result",
          "data": {
            "text/plain": [
              "<bound method NDFrame.head of         scissor0.jpg  scissorSit  2006.8503   1624.0208   -1593.3456  \\\n",
              "0       scissor1.jpg  scissorSit  881.01940   465.64685 -1102.504800   \n",
              "1      scissor10.jpg  scissorSit  871.43475   346.31360  -371.125520   \n",
              "2     scissor100.jpg  scissorSit  723.19904   717.09906   344.332240   \n",
              "3     scissor103.jpg  scissorSit  549.72577   701.38980  -650.752800   \n",
              "4     scissor105.jpg  scissorSit  515.79614   731.90936  -343.087800   \n",
              "..               ...         ...        ...         ...          ...   \n",
              "303  butterfly95.jpg   butterfly  631.13680  1186.53310  -155.513810   \n",
              "304  butterfly96.jpg   butterfly  590.69550  1175.36610    35.266754   \n",
              "305  butterfly97.jpg   butterfly  647.99646  1154.53630  -223.326800   \n",
              "306  butterfly98.jpg   butterfly  682.30255  1119.04960  -431.599900   \n",
              "307  butterfly99.jpg   butterfly  660.48816  1113.01890  -230.266570   \n",
              "\n",
              "     2072.7856   1626.0464   -1594.366  2084.7407    1639.284  ...  \\\n",
              "0    913.37900   472.28815 -1108.68620  915.61030   480.49387  ...   \n",
              "1    876.06116   356.15137  -340.92517  874.56067   360.76800  ...   \n",
              "2    735.15570   707.39923   342.95862  739.82490   707.60560  ...   \n",
              "3    560.00990   691.04083  -625.64410  566.80634   692.50946  ...   \n",
              "4    522.86930   716.04650  -308.31020  529.19370   716.47864  ...   \n",
              "..         ...         ...         ...        ...         ...  ...   \n",
              "303  623.63790  1212.08750  -147.61142  615.70650  1215.99770  ...   \n",
              "304  585.97000  1197.59300    45.67611  579.46120  1201.28400  ...   \n",
              "305  641.64600  1176.21480  -196.34369  633.09894  1179.95620  ...   \n",
              "306  676.93915  1137.74830  -399.11465  669.88780  1140.59700  ...   \n",
              "307  656.61990  1128.38940  -198.46527  650.74190  1130.80180  ...   \n",
              "\n",
              "     -1139.3314  1260.5076    658.7033   -852.5819   1672.7751  3485.9194  \\\n",
              "0     492.49380  296.22833   584.79407   -6.395708  347.273070  449.70330   \n",
              "1     -62.52512  225.77562   313.62380  228.105850  313.917000  644.53937   \n",
              "2    -212.14601  382.51020  1095.14990  195.772660  377.678600  681.03094   \n",
              "3    -330.80865  704.37380  1188.74450 -604.134460  541.928100  776.68475   \n",
              "4    -373.60486  765.19073  1249.40550 -859.077500  601.588560  655.93100   \n",
              "..          ...        ...         ...         ...         ...        ...   \n",
              "303   198.01416  649.83260   447.75854  547.680660   -6.545867  889.24866   \n",
              "304   186.42920  552.18410   509.10370  389.138300   32.728497  843.87620   \n",
              "305   516.25940  752.46700   428.14200  377.284580  213.937650  770.97280   \n",
              "306   647.05680  752.09830   350.44772   61.069084  308.734920  715.19293   \n",
              "307   478.77484  757.26060   408.72122  199.886580  195.980210  518.72350   \n",
              "\n",
              "     -1381.9805  1649.2949   505.98077  -1090.3063  \n",
              "0     370.47382  229.82236   639.37244  -206.83385  \n",
              "1    -187.28145  192.16997   274.37183    75.10196  \n",
              "2    -253.43442  328.18810  1085.01180   177.45747  \n",
              "3    -452.60297  776.37195  1194.41580  -735.44836  \n",
              "4    -440.18118  826.71120  1272.03630  -974.23340  \n",
              "..          ...        ...         ...         ...  \n",
              "303   277.38492  713.50903   378.04132   481.04807  \n",
              "304   366.27927  663.93740   441.77347   385.16904  \n",
              "305   708.11554  847.43420   374.86127   340.46735  \n",
              "306   719.91644  864.78217   261.13530  -133.04298  \n",
              "307   446.35394  859.79880   348.58078    51.62483  \n",
              "\n",
              "[308 rows x 101 columns]>"
            ]
          },
          "metadata": {},
          "execution_count": 53
        }
      ]
    },
    {
      "cell_type": "code",
      "source": [
        "import numpy as np\n",
        "from sklearn import preprocessing\n",
        "#get labels\n",
        "labels = dataFrame.iloc[:,1]\n",
        "\n",
        "#code labels\n",
        "le = preprocessing.LabelEncoder()\n",
        "le.fit(labels)\n",
        "\n",
        "numLabels = le.transform(labels)\n",
        "print(np.unique(numLabels))\n",
        "print(le.classes_)\n",
        "features = dataFrame.iloc[:,2:]"
      ],
      "metadata": {
        "colab": {
          "base_uri": "https://localhost:8080/"
        },
        "id": "QLI9yO6GxI75",
        "outputId": "c0d54dbb-e029-498f-b31a-6067eb62a7b4"
      },
      "execution_count": null,
      "outputs": [
        {
          "output_type": "stream",
          "name": "stdout",
          "text": [
            "[0 1 2]\n",
            "['butterfly' 'scissorSit' 'superman']\n"
          ]
        }
      ]
    },
    {
      "cell_type": "code",
      "source": [
        "#split data 30% test 70% train\n",
        "from sklearn.model_selection import train_test_split\n",
        "X_train, X_test, y_train, y_test = train_test_split(features, numLabels, test_size=0.3)"
      ],
      "metadata": {
        "id": "2aYIy3H20m8A"
      },
      "execution_count": null,
      "outputs": []
    },
    {
      "cell_type": "markdown",
      "source": [
        "# Support Vector Machine"
      ],
      "metadata": {
        "id": "DbQpX_38xgQ7"
      }
    },
    {
      "cell_type": "code",
      "source": [
        "#support vector machine\n",
        "from sklearn import svm\n",
        "supVM = svm.SVC()\n",
        "supVM.fit(X_train,y_train)"
      ],
      "metadata": {
        "colab": {
          "base_uri": "https://localhost:8080/"
        },
        "id": "6UFdFHBkxd6S",
        "outputId": "53aca1e5-ff2d-4f14-c654-4a3f59c34d38"
      },
      "execution_count": null,
      "outputs": [
        {
          "output_type": "execute_result",
          "data": {
            "text/plain": [
              "SVC()"
            ]
          },
          "metadata": {},
          "execution_count": 56
        }
      ]
    },
    {
      "cell_type": "code",
      "source": [
        "from sklearn.metrics import confusion_matrix\n",
        "from sklearn.metrics import plot_confusion_matrix\n",
        "import seaborn as sn\n",
        "import matplotlib.pyplot as plt\n",
        "#get predictions\n",
        "y_pred = supVM.predict(X_test)\n",
        "title = \"Support Vector Machine Test Confusion Matrix\"\n",
        "\n",
        "\n",
        "#confusion matrix\n",
        "classLabels = le.classes_\n",
        "the_matrix = confusion_matrix(y_pred, y_test, labels=np.unique(numLabels))\n",
        "print(the_matrix)\n",
        "\n",
        "df_cfm = pd.DataFrame(the_matrix, index = classLabels, columns = classLabels)\n",
        "plt.figure(figsize = (10,7))\n",
        "cfm_plot = sn.heatmap(df_cfm, annot=True, fmt='g')\n",
        "cfm_plot.set_title(title)\n",
        "cfm_plot.set_xlabel('Predicted')\n",
        "cfm_plot.set_ylabel('True Label')\n",
        "\n",
        "from sklearn.metrics import accuracy_score\n",
        "print(\"accuracy:\", accuracy_score(y_test, y_pred)) #why the same"
      ],
      "metadata": {
        "colab": {
          "base_uri": "https://localhost:8080/",
          "height": 527
        },
        "id": "CMH-IkeS022G",
        "outputId": "2ec56a06-4f95-4024-ad29-adb288ba10f8"
      },
      "execution_count": null,
      "outputs": [
        {
          "output_type": "stream",
          "name": "stdout",
          "text": [
            "[[33  3  1]\n",
            " [ 0 23  2]\n",
            " [ 1  5 25]]\n",
            "accuracy: 0.8709677419354839\n"
          ]
        },
        {
          "output_type": "display_data",
          "data": {
            "text/plain": [
              "<Figure size 720x504 with 2 Axes>"
            ],
            "image/png": "[encoded data removed]"
          },
          "metadata": {
            "needs_background": "light"
          }
        }
      ]
    },
    {
      "cell_type": "markdown",
      "source": [
        "# Artificial Neural Network"
      ],
      "metadata": {
        "id": "s8d8fqEU3tWy"
      }
    },
    {
      "cell_type": "code",
      "source": [
        "#artificial neural network\n",
        "from sklearn.neural_network import MLPClassifier\n",
        "ann = MLPClassifier(max_iter = 500, activation = \"logistic\", solver = \"sgd\").fit(X_train,y_train)"
      ],
      "metadata": {
        "id": "40D-M30u3z0h"
      },
      "execution_count": null,
      "outputs": []
    },
    {
      "cell_type": "code",
      "source": [
        "#get predictions\n",
        "y_pred = ann.predict(X_test)\n",
        "title = \"ANN Test Confusion Matrix\"\n",
        "\n",
        "\n",
        "#confusion matrix\n",
        "classLabels = le.classes_\n",
        "the_matrix = confusion_matrix(y_pred, y_test, labels=np.unique(numLabels))\n",
        "print(the_matrix)\n",
        "\n",
        "df_cfm = pd.DataFrame(the_matrix, index = classLabels, columns = classLabels)\n",
        "plt.figure(figsize = (10,7))\n",
        "cfm_plot = sn.heatmap(df_cfm, annot=True, fmt='g')\n",
        "cfm_plot.set_title(title)\n",
        "cfm_plot.set_xlabel('Predicted')\n",
        "cfm_plot.set_ylabel('True Label')\n",
        "\n",
        "from sklearn.metrics import accuracy_score\n",
        "print(\"accuracy:\", accuracy_score(y_test, y_pred))"
      ],
      "metadata": {
        "colab": {
          "base_uri": "https://localhost:8080/",
          "height": 527
        },
        "id": "wONPQQf64v7I",
        "outputId": "06593d87-bd45-4dc6-b523-90d420d30a7d"
      },
      "execution_count": null,
      "outputs": [
        {
          "output_type": "stream",
          "name": "stdout",
          "text": [
            "[[34 12  4]\n",
            " [ 0 15  3]\n",
            " [ 0  4 21]]\n",
            "accuracy: 0.7526881720430108\n"
          ]
        },
        {
          "output_type": "display_data",
          "data": {
            "text/plain": [
              "<Figure size 720x504 with 2 Axes>"
            ],
            "image/png": "[encoded data removed]"
          },
          "metadata": {
            "needs_background": "light"
          }
        }
      ]
    },
    {
      "cell_type": "markdown",
      "source": [
        "# Logistic Regression"
      ],
      "metadata": {
        "id": "-ByitmiO5RJE"
      }
    },
    {
      "cell_type": "code",
      "source": [
        "from sklearn.linear_model import LogisticRegression\n",
        "logisticRegr = LogisticRegression()\n",
        "logisticRegr.fit(X_train, y_train)"
      ],
      "metadata": {
        "colab": {
          "base_uri": "https://localhost:8080/"
        },
        "id": "_dy7ICpt5PzF",
        "outputId": "065b1e4c-2ad3-4996-ac16-05385bd20019"
      },
      "execution_count": null,
      "outputs": [
        {
          "output_type": "stream",
          "name": "stderr",
          "text": [
            "/usr/local/lib/python3.7/dist-packages/sklearn/linear_model/_logistic.py:818: ConvergenceWarning: lbfgs failed to converge (status=1):\n",
            "STOP: TOTAL NO. of ITERATIONS REACHED LIMIT.\n",
            "\n",
            "Increase the number of iterations (max_iter) or scale the data as shown in:\n",
            "    https://scikit-learn.org/stable/modules/preprocessing.html\n",
            "Please also refer to the documentation for alternative solver options:\n",
            "    https://scikit-learn.org/stable/modules/linear_model.html#logistic-regression\n",
            "  extra_warning_msg=_LOGISTIC_SOLVER_CONVERGENCE_MSG,\n"
          ]
        },
        {
          "output_type": "execute_result",
          "data": {
            "text/plain": [
              "LogisticRegression()"
            ]
          },
          "metadata": {},
          "execution_count": 60
        }
      ]
    },
    {
      "cell_type": "code",
      "source": [
        "#get predictions\n",
        "y_pred = logisticRegr.predict(X_test)\n",
        "title = \"Logistic Test Confusion Matrix\"\n",
        "\n",
        "\n",
        "#confusion matrix\n",
        "classLabels = le.classes_\n",
        "the_matrix = confusion_matrix(y_pred, y_test, labels=np.unique(numLabels))\n",
        "print(the_matrix)\n",
        "\n",
        "df_cfm = pd.DataFrame(the_matrix, index = classLabels, columns = classLabels)\n",
        "plt.figure(figsize = (10,7))\n",
        "cfm_plot = sn.heatmap(df_cfm, annot=True, fmt='g')\n",
        "cfm_plot.set_title(title)\n",
        "cfm_plot.set_xlabel('Predicted')\n",
        "cfm_plot.set_ylabel('True Label')\n",
        "\n",
        "from sklearn.metrics import accuracy_score\n",
        "print(\"accuracy:\", accuracy_score(y_test, y_pred))"
      ],
      "metadata": {
        "colab": {
          "base_uri": "https://localhost:8080/",
          "height": 527
        },
        "id": "blMLmz-h6QC6",
        "outputId": "1a9428ec-f454-490c-d16d-fb7ef575f231"
      },
      "execution_count": null,
      "outputs": [
        {
          "output_type": "stream",
          "name": "stdout",
          "text": [
            "[[34  5  5]\n",
            " [ 0 24  1]\n",
            " [ 0  2 22]]\n",
            "accuracy: 0.8602150537634409\n"
          ]
        },
        {
          "output_type": "display_data",
          "data": {
            "text/plain": [
              "<Figure size 720x504 with 2 Axes>"
            ],
            "image/png": "[encoded data removed]"
          },
          "metadata": {
            "needs_background": "light"
          }
        }
      ]
    },
    {
      "cell_type": "markdown",
      "source": [
        "##Completely OOS"
      ],
      "metadata": {
        "id": "C9qzm7xaLnAL"
      }
    },
    {
      "cell_type": "code",
      "source": [
        "oosTestdf = pd.read_csv('/content/gdrive/MyDrive/pointYourPoseResearchColabs/poleTestCsvOut.csv',header=None)"
      ],
      "metadata": {
        "id": "4kcSyJsgLq3V"
      },
      "execution_count": null,
      "outputs": []
    },
    {
      "cell_type": "code",
      "source": [
        "#get labels\n",
        "testlabels = oosTestdf.iloc[:,1]\n",
        "\n",
        "#code labels\n",
        "leT = preprocessing.LabelEncoder()\n",
        "leT.fit(labels)\n",
        "\n",
        "testNumLabels = leT.transform(testlabels)\n",
        "print(np.unique(testNumLabels))\n",
        "print(leT.classes_)\n",
        "testFeatures = oosTestdf.iloc[:,2:]"
      ],
      "metadata": {
        "colab": {
          "base_uri": "https://localhost:8080/"
        },
        "id": "JkoPMW6DLsGH",
        "outputId": "f8d8a63f-83e3-4683-eed8-c9a176e7fa7f"
      },
      "execution_count": null,
      "outputs": [
        {
          "output_type": "stream",
          "name": "stdout",
          "text": [
            "[0 1 2]\n",
            "['butterfly' 'scissorSit' 'superman']\n"
          ]
        }
      ]
    },
    {
      "cell_type": "code",
      "source": [
        "#ANN OOS\n",
        "y_pred = ann.predict(testFeatures)\n",
        "title = \"ANN OOS Confusion Matrix\"\n",
        "\n",
        "#confusion matrix\n",
        "classLabels = leT.classes_\n",
        "the_matrix = confusion_matrix(y_pred, testNumLabels, labels=np.unique(testNumLabels))\n",
        "print(the_matrix)\n",
        "\n",
        "print(\"Artificial Neural Network OOS Accuracy:\", str(accuracy_score(testNumLabels, y_pred)))\n",
        "\n",
        "df_cfm = pd.DataFrame(the_matrix, index = classLabels, columns = classLabels)\n",
        "plt.figure(figsize = (10,7))\n",
        "cfm_plot = sn.heatmap(df_cfm, annot=True, fmt='g')\n",
        "cfm_plot.set_title(title)\n",
        "cfm_plot.set_xlabel('Predicted')\n",
        "cfm_plot.set_ylabel('True Label')"
      ],
      "metadata": {
        "colab": {
          "base_uri": "https://localhost:8080/",
          "height": 600
        },
        "id": "F2kEvGZYNH4e",
        "outputId": "ecbd9788-4e67-420e-e213-43d0dc74f7ef"
      },
      "execution_count": null,
      "outputs": [
        {
          "output_type": "stream",
          "name": "stdout",
          "text": [
            "[[31  2  4]\n",
            " [ 0 19  0]\n",
            " [ 0  8  8]]\n",
            "Artificial Neural Network OOS Accuracy: 0.8055555555555556\n"
          ]
        },
        {
          "output_type": "stream",
          "name": "stderr",
          "text": [
            "/usr/local/lib/python3.7/dist-packages/sklearn/base.py:451: UserWarning: X does not have valid feature names, but MLPClassifier was fitted with feature names\n",
            "  \"X does not have valid feature names, but\"\n"
          ]
        },
        {
          "output_type": "execute_result",
          "data": {
            "text/plain": [
              "Text(69.0, 0.5, 'True Label')"
            ]
          },
          "metadata": {},
          "execution_count": 64
        },
        {
          "output_type": "display_data",
          "data": {
            "text/plain": [
              "<Figure size 720x504 with 2 Axes>"
            ],
            "image/png": "[encoded data removed]"
          },
          "metadata": {
            "needs_background": "light"
          }
        }
      ]
    },
    {
      "cell_type": "code",
      "source": [
        "#SVM OOS\n",
        "y_pred = supVM.predict(testFeatures)\n",
        "title = \"Support Vector Machine OOS Confusion Matrix\"\n",
        "\n",
        "\n",
        "#confusion matrix\n",
        "classLabels = leT.classes_\n",
        "the_matrix = confusion_matrix(y_pred, testNumLabels, labels=np.unique(testNumLabels))\n",
        "print(the_matrix)\n",
        "\n",
        "print(\"Support Vector Machine OOS Accuracy:\", str(accuracy_score(testNumLabels, y_pred)))\n",
        "\n",
        "df_cfm = pd.DataFrame(the_matrix, index = classLabels, columns = classLabels)\n",
        "plt.figure(figsize = (10,7))\n",
        "cfm_plot = sn.heatmap(df_cfm, annot=True, fmt='g')\n",
        "cfm_plot.set_title(title)\n",
        "cfm_plot.set_xlabel('Predicted')\n",
        "cfm_plot.set_ylabel('True Label')"
      ],
      "metadata": {
        "colab": {
          "base_uri": "https://localhost:8080/",
          "height": 600
        },
        "id": "flTxl2PyMjN6",
        "outputId": "def0fb05-800d-490e-a94c-cfc74ee50309"
      },
      "execution_count": null,
      "outputs": [
        {
          "output_type": "stream",
          "name": "stdout",
          "text": [
            "[[31  0  0]\n",
            " [ 0  4  0]\n",
            " [ 0 25 12]]\n",
            "Support Vector Machine OOS Accuracy: 0.6527777777777778\n"
          ]
        },
        {
          "output_type": "stream",
          "name": "stderr",
          "text": [
            "/usr/local/lib/python3.7/dist-packages/sklearn/base.py:451: UserWarning: X does not have valid feature names, but SVC was fitted with feature names\n",
            "  \"X does not have valid feature names, but\"\n"
          ]
        },
        {
          "output_type": "execute_result",
          "data": {
            "text/plain": [
              "Text(69.0, 0.5, 'True Label')"
            ]
          },
          "metadata": {},
          "execution_count": 65
        },
        {
          "output_type": "display_data",
          "data": {
            "text/plain": [
              "<Figure size 720x504 with 2 Axes>"
            ],
            "image/png": "[encoded data removed]"
          },
          "metadata": {
            "needs_background": "light"
          }
        }
      ]
    },
    {
      "cell_type": "code",
      "source": [
        "#logistic OOS\n",
        "y_pred = logisticRegr.predict(testFeatures)\n",
        "title = \"Logistic OOS Confusion Matrix\"\n",
        "\n",
        "\n",
        "#confusion matrix\n",
        "classLabels = leT.classes_\n",
        "the_matrix = confusion_matrix(y_pred, testNumLabels, labels=np.unique(testNumLabels))\n",
        "print(the_matrix)\n",
        "\n",
        "print(\"Logistic OOS Accuracy:\", str(accuracy_score(testNumLabels, y_pred)))\n",
        "\n",
        "df_cfm = pd.DataFrame(the_matrix, index = classLabels, columns = classLabels)\n",
        "plt.figure(figsize = (10,7))\n",
        "cfm_plot = sn.heatmap(df_cfm, annot=True, fmt='g')\n",
        "cfm_plot.set_title(title)\n",
        "cfm_plot.set_xlabel('Predicted')\n",
        "cfm_plot.set_ylabel('True Label')"
      ],
      "metadata": {
        "colab": {
          "base_uri": "https://localhost:8080/",
          "height": 600
        },
        "id": "cWpZgrmlLuci",
        "outputId": "034ef221-7615-4917-c984-3fabcf376b26"
      },
      "execution_count": null,
      "outputs": [
        {
          "output_type": "stream",
          "name": "stdout",
          "text": [
            "[[30  7  6]\n",
            " [ 1 17  1]\n",
            " [ 0  5  5]]\n",
            "Logistic OOS Accuracy: 0.7222222222222222\n"
          ]
        },
        {
          "output_type": "stream",
          "name": "stderr",
          "text": [
            "/usr/local/lib/python3.7/dist-packages/sklearn/base.py:451: UserWarning: X does not have valid feature names, but LogisticRegression was fitted with feature names\n",
            "  \"X does not have valid feature names, but\"\n"
          ]
        },
        {
          "output_type": "execute_result",
          "data": {
            "text/plain": [
              "Text(69.0, 0.5, 'True Label')"
            ]
          },
          "metadata": {},
          "execution_count": 66
        },
        {
          "output_type": "display_data",
          "data": {
            "text/plain": [
              "<Figure size 720x504 with 2 Axes>"
            ],
            "image/png": "[encoded data removed]"
          },
          "metadata": {
            "needs_background": "light"
          }
        }
      ]
    }
  ]
}