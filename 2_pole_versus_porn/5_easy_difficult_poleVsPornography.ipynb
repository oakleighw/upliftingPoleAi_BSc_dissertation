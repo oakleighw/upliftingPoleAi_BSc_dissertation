{
  "cells": [
    {
      "cell_type": "markdown",
      "metadata": {
        "id": "8IVyRcPtTlnE"
      },
      "source": [
        "# This Notebook assesses whether Pole Imagery is flagged as Pornography when trained with \"easy\", \"difficult\" non-pole neutral data, pole data and pornography"
      ]
    },
    {
      "cell_type": "code",
      "execution_count": null,
      "metadata": {
        "id": "0K_4PeEeTuk6",
        "colab": {
          "base_uri": "https://localhost:8080/"
        },
        "outputId": "c60bb89c-f135-4d0b-c4e3-2dc59ba44cfb"
      },
      "outputs": [
        {
          "output_type": "stream",
          "name": "stdout",
          "text": [
            "Mounted at /content/drive\n"
          ]
        }
      ],
      "source": [
        "from google.colab import drive\n",
        "drive.mount('/content/drive')"
      ]
    },
    {
      "cell_type": "code",
      "execution_count": null,
      "metadata": {
        "id": "3Or5kqvfTIvm"
      },
      "outputs": [],
      "source": [
        "#get directories\n",
        "pornDir = \"/content/drive/MyDrive/PoleVsExplicit/prng dataset/Frames/vPorn\"\n",
        "notPornEasy = \"/content/drive/MyDrive/PoleVsExplicit/prng dataset/Frames/vNonPornEasy\"\n",
        "notPornDifficult = \"/content/drive/MyDrive/PoleVsExplicit/prng dataset/Frames/vNonPornDifficulty\""
      ]
    },
    {
      "cell_type": "code",
      "execution_count": null,
      "metadata": {
        "id": "NE3038WZUpNo"
      },
      "outputs": [],
      "source": [
        "import os\n",
        "import matplotlib.pyplot as plt\n",
        "\n",
        "#create image lists\n",
        "\n",
        "porn = []\n",
        "notPornE = []\n",
        "notPornD = []\n",
        "pole = []\n",
        "\n",
        "for dir in os.listdir(\"/content/drive/MyDrive/PoleVsExplicit/poleData/polePoseRecognition\"):\n",
        "  for file in os.listdir(\"/content/drive/MyDrive/PoleVsExplicit/poleData/polePoseRecognition/\" + dir):\n",
        "    pole.append(plt.imread(\"/content/drive/MyDrive/PoleVsExplicit/poleData/polePoseRecognition/\" + dir + \"/\" + file))\n",
        "\n",
        "for file in os.listdir(notPornEasy):\n",
        "    notPornE.append(plt.imread(notPornEasy + '/' + file))\n",
        "\n",
        "for file in os.listdir(notPornDifficult):\n",
        "    notPornD.append(plt.imread(notPornDifficult + '/' + file))\n",
        "    \n",
        "for file in os.listdir(pornDir):\n",
        "    porn.append(plt.imread(pornDir + '/' + file))"
      ]
    },
    {
      "cell_type": "code",
      "execution_count": null,
      "metadata": {
        "id": "kZZHv-FKWOC4",
        "colab": {
          "base_uri": "https://localhost:8080/"
        },
        "outputId": "175cca07-884c-4fc5-b8ad-5fb7a968317a"
      },
      "outputs": [
        {
          "output_type": "stream",
          "name": "stdout",
          "text": [
            "Total pole images:362\n",
            "\n",
            "Total porn images: 6387\n",
            "\n",
            "Total neutral easy images: 6785\n",
            "\n",
            "Total neutral difficult images: 3555\n",
            "\n"
          ]
        }
      ],
      "source": [
        "def show_imgs(imageList):\n",
        "  for i in range(3):\n",
        "    plt.imshow(imageList[i])\n",
        "    plt.show()\n",
        "print(\"Total pole images:\" + str(len(pole)) + \"\\n\")\n",
        "#show_imgs(pole)    \n",
        "print(\"Total porn images: \" + str(len(porn)) + \"\\n\")\n",
        "#show_imgs(porn)\n",
        "print(\"Total neutral easy images: \" + str(len(notPornE)) + \"\\n\")\n",
        "#show_imgs(notPornE)\n",
        "print(\"Total neutral difficult images: \" + str(len(notPornD)) + \"\\n\")\n",
        "#show_imgs(notPornD)"
      ]
    },
    {
      "cell_type": "code",
      "execution_count": null,
      "metadata": {
        "id": "7yQm0Y1HWSl2",
        "colab": {
          "base_uri": "https://localhost:8080/"
        },
        "outputId": "c967bac0-ed61-4248-ae14-e30b196842fd"
      },
      "outputs": [
        {
          "output_type": "stream",
          "name": "stderr",
          "text": [
            "/usr/local/lib/python3.7/dist-packages/ipykernel_launcher.py:3: VisibleDeprecationWarning: Creating an ndarray from ragged nested sequences (which is a list-or-tuple of lists-or-tuples-or ndarrays with different lengths or shapes) is deprecated. If you meant to do this, you must specify 'dtype=object' when creating the ndarray.\n",
            "  This is separate from the ipykernel package so we can avoid doing imports until\n",
            "/usr/local/lib/python3.7/dist-packages/ipykernel_launcher.py:4: VisibleDeprecationWarning: Creating an ndarray from ragged nested sequences (which is a list-or-tuple of lists-or-tuples-or ndarrays with different lengths or shapes) is deprecated. If you meant to do this, you must specify 'dtype=object' when creating the ndarray.\n",
            "  after removing the cwd from sys.path.\n",
            "<string>:6: VisibleDeprecationWarning: Creating an ndarray from ragged nested sequences (which is a list-or-tuple of lists-or-tuples-or ndarrays with different lengths or shapes) is deprecated. If you meant to do this, you must specify 'dtype=object' when creating the ndarray.\n"
          ]
        }
      ],
      "source": [
        "import numpy as np\n",
        "#randomly select 3000 of each\n",
        "pornSample = np.random.choice(porn,3000)\n",
        "notPornSample = np.concatenate((np.random.choice(notPornE,1319),np.random.choice(notPornD,1319))) # pole has 362, adding total non-porn to 3000\n",
        "np.random.shuffle(notPornSample)\n",
        "notPornSample = np.concatenate((pole,notPornSample)) # such that pole data is kept within training when sliced\n",
        "#show_imgs(pornSample)\n",
        "#show_imgs(notPornSample)"
      ]
    },
    {
      "cell_type": "code",
      "execution_count": null,
      "metadata": {
        "id": "QrP-cbv0Wi6y",
        "colab": {
          "base_uri": "https://localhost:8080/"
        },
        "outputId": "b70ffbbb-44eb-4f15-bdd9-c5e80f213ae7"
      },
      "outputs": [
        {
          "output_type": "stream",
          "name": "stdout",
          "text": [
            "Porn Train Images: 2100\n",
            "Porn Validation Images: 600\n",
            "Porn Test Images: 300\n",
            "Neutral Train Images: 2100\n",
            "Neutral Validation Images: 600\n",
            "Neutral Test Images: 300\n"
          ]
        }
      ],
      "source": [
        "#create test and train\n",
        "#70% train 30% test\n",
        "trainDivide = int(len(pornSample) * 0.7)\n",
        "validDivide = int(len(pornSample) * 0.2)\n",
        "\n",
        "pornTrain = pornSample[0:trainDivide]\n",
        "pornVal = pornSample[trainDivide: trainDivide + validDivide]\n",
        "pornTest = pornSample[trainDivide + validDivide:]\n",
        "\n",
        "nPornTrain = notPornSample[0:trainDivide]\n",
        "nPornVal = notPornSample[trainDivide: trainDivide + validDivide]\n",
        "nPornTest = notPornSample[trainDivide + validDivide:]\n",
        "\n",
        "print(\"Porn Train Images:\", len(pornTrain))\n",
        "print(\"Porn Validation Images:\",len(pornVal))\n",
        "print(\"Porn Test Images:\",len(pornTest))\n",
        "\n",
        "\n",
        "print(\"Neutral Train Images:\",len(nPornTrain))\n",
        "print(\"Neutral Validation Images:\",len(nPornVal))\n",
        "print(\"Neutral Test Images:\",len(nPornTest))\n",
        "\n",
        "trainNo = len(pornTrain) + len(nPornTrain)\n",
        "validNo = len(pornVal) + len(nPornVal)"
      ]
    },
    {
      "cell_type": "code",
      "execution_count": null,
      "metadata": {
        "id": "1q576qebWmUk"
      },
      "outputs": [],
      "source": [
        "####################################################\n",
        "# Remove directories if needed\n",
        "####################################################\n",
        "\n",
        "trainPath = \"/content/drive/MyDrive/PoleVsExplicit/split/train\"\n",
        "validPath = \"/content/drive/MyDrive/PoleVsExplicit/split/valid\"\n",
        "testPath = \"/content/drive/MyDrive/PoleVsExplicit/split/test\"\n",
        "\n",
        "if os.path.exists(trainPath):\n",
        "  for directory in os.listdir(trainPath):\n",
        "    for file in os.listdir(trainPath + \"/\" + directory):\n",
        "        os.remove(trainPath + \"/\" + directory + \"/\" + file)\n",
        "    os.rmdir(trainPath + \"/\" + directory)\n",
        "\n",
        "if os.path.exists(validPath):\n",
        "  for directory in os.listdir(validPath):\n",
        "    for file in os.listdir(validPath + \"/\" + directory):\n",
        "        os.remove(validPath + \"/\" + directory + \"/\" + file)\n",
        "    os.rmdir(validPath + \"/\" + directory)\n",
        "\n",
        "if os.path.exists(testPath):\n",
        "  for directory in os.listdir(testPath):\n",
        "    for file in os.listdir(testPath + \"/\" + directory):\n",
        "        os.remove(testPath + \"/\" + directory + \"/\" + file)\n",
        "    os.rmdir(testPath + \"/\" + directory)"
      ]
    },
    {
      "cell_type": "code",
      "execution_count": null,
      "metadata": {
        "id": "YeKWUy_fWqn5"
      },
      "outputs": [],
      "source": [
        "#create directories for train/test split\n",
        "if not os.path.exists(trainPath):  \n",
        "    os.makedirs(trainPath)\n",
        "\n",
        "if not os.path.exists(validPath):  \n",
        "    os.makedirs(validPath)\n",
        "\n",
        "if not os.path.exists(testPath):  \n",
        "    os.makedirs(testPath)"
      ]
    },
    {
      "cell_type": "code",
      "execution_count": null,
      "metadata": {
        "id": "HtPsfp3fW_lF"
      },
      "outputs": [],
      "source": [
        "#create class directories\n",
        "if not os.path.exists(trainPath + \"/\" + \"porn\"):  \n",
        "    os.makedirs(trainPath + \"/\" + \"porn\")\n",
        "    \n",
        "if not os.path.exists(trainPath + \"/\" + \"notPorn\"):  \n",
        "    os.makedirs(trainPath + \"/\" + \"notPorn\")\n",
        "\n",
        "if not os.path.exists(validPath + \"/\" + \"porn\"):  \n",
        "    os.makedirs(validPath + \"/\" + \"porn\")\n",
        "\n",
        "if not os.path.exists(validPath + \"/\" + \"notPorn\"):  \n",
        "    os.makedirs(validPath + \"/\" + \"notPorn\")\n",
        "    \n",
        "if not os.path.exists(testPath + \"/\" + \"porn\"):  \n",
        "    os.makedirs(testPath + \"/\" + \"porn\")\n",
        "    \n",
        "if not os.path.exists(testPath + \"/\" + \"notPorn\"):  \n",
        "    os.makedirs(testPath + \"/\" + \"notPorn\")"
      ]
    },
    {
      "cell_type": "code",
      "execution_count": null,
      "metadata": {
        "id": "6fow_MoKXBbN"
      },
      "outputs": [],
      "source": [
        "#Save Split image datasets to directory\n",
        "from PIL import Image  \n",
        "\n",
        "for i in range(0,len(pornTrain)):\n",
        "    fname = \"pornTrain_\" + str(i)\n",
        "    im = Image.fromarray(pornTrain[i])\n",
        "    im.save((\"/content/drive/MyDrive/PoleVsExplicit/split/train/porn/\") + fname + \".jpg\")\n",
        "\n",
        "for i in range(0,len(pornTest)):\n",
        "    fname = \"pornTest_\" + str(i)\n",
        "    im = Image.fromarray(pornTest[i])\n",
        "    im.save((\"/content/drive/MyDrive/PoleVsExplicit/split/test/porn/\") + fname + \".jpg\")   \n",
        "\n",
        "\n",
        "for i in range(0,len(pornVal)):\n",
        "    fname = \"pornVal_\" + str(i)\n",
        "    im = Image.fromarray(pornVal[i])\n",
        "    im.save((\"/content/drive/MyDrive/PoleVsExplicit/split/valid/porn/\") + fname + \".jpg\")\n",
        "\n",
        "for i in range(0,len(nPornVal)):\n",
        "    fname = \"nPornVal_\" + str(i)\n",
        "    im = Image.fromarray(nPornVal[i])\n",
        "    im.save((\"/content/drive/MyDrive/PoleVsExplicit/split/valid/notPorn/\") + fname + \".jpg\")   \n",
        "\n",
        "\n",
        "\n",
        "for i in range(0,len(nPornTrain)):\n",
        "    fname = \"nPornTrain_\" + str(i)\n",
        "    im = Image.fromarray(nPornTrain[i])\n",
        "    im = im.convert('RGB') #remove alpha channel included with pole images\n",
        "    im.save((\"/content/drive/MyDrive/PoleVsExplicit/split/train/notPorn/\") + fname + \".jpg\") \n",
        "\n",
        "for i in range(0,len(nPornTest)):\n",
        "    fname = \"nPornTest_\" + str(i)\n",
        "    im = Image.fromarray(nPornTest[i])\n",
        "    im.save((\"/content/drive/MyDrive/PoleVsExplicit/split/test/notPorn/\") + fname + \".jpg\")"
      ]
    },
    {
      "cell_type": "code",
      "source": [
        "#delete variables to save RAM\n",
        "del(porn)\n",
        "del(notPornE)\n",
        "del(notPornD)\n",
        "del(pole)\n",
        "del(pornSample)\n",
        "del(notPornSample)\n",
        "del(pornTrain)\n",
        "del(pornVal)\n",
        "del(pornTest)\n",
        "del(nPornTrain)\n",
        "del(nPornVal)\n",
        "del(nPornTest)"
      ],
      "metadata": {
        "id": "ExPVZlYRKFhk"
      },
      "execution_count": null,
      "outputs": []
    },
    {
      "cell_type": "markdown",
      "metadata": {
        "id": "QbCu68fMkKBN"
      },
      "source": [
        "[Reference](https://github.com/MaxTitkov/Keras_InceptionV3_Binary_classification/blob/master/complete_model.py)"
      ]
    },
    {
      "cell_type": "code",
      "execution_count": null,
      "metadata": {
        "id": "TseP9HkzZjfN",
        "colab": {
          "base_uri": "https://localhost:8080/"
        },
        "outputId": "63e0db8f-1f57-4795-f671-18d624719f2f"
      },
      "outputs": [
        {
          "output_type": "stream",
          "name": "stdout",
          "text": [
            "Found 4200 images belonging to 2 classes.\n",
            "Found 1200 images belonging to 2 classes.\n",
            "Downloading data from https://storage.googleapis.com/tensorflow/keras-applications/inception_v3/inception_v3_weights_tf_dim_ordering_tf_kernels_notop.h5\n",
            "87916544/87910968 [==============================] - 1s 0us/step\n",
            "87924736/87910968 [==============================] - 1s 0us/step\n"
          ]
        }
      ],
      "source": [
        "from keras.applications.inception_v3 import InceptionV3\n",
        "from keras.applications.inception_v3 import preprocess_input\n",
        "#Define Model\n",
        "import tensorflow as tf\n",
        "import keras_preprocessing\n",
        "from keras_preprocessing import image\n",
        "from keras_preprocessing.image import ImageDataGenerator\n",
        "from keras.layers import Dropout, Flatten, Dense\n",
        "from keras.models import Model\n",
        "\n",
        "tBatchSize = 32 #32-64\n",
        "vBatchSize = 32\n",
        "#Define imageDataGenerators and Model\n",
        "TRAINING_DIR = \"/content/drive/MyDrive/PoleVsExplicit/split/train\"\n",
        "training_datagen = ImageDataGenerator()\n",
        "\n",
        "train_generator = training_datagen.flow_from_directory(\n",
        "    TRAINING_DIR,\n",
        "    target_size=(240,240),\n",
        "    class_mode='binary',\n",
        "    batch_size=tBatchSize\n",
        ")\n",
        "VALIDATION_DIR = \"/content/drive/MyDrive/PoleVsExplicit/split/valid\"\n",
        "validation_datagen=ImageDataGenerator()\n",
        "\n",
        "validation_generator = validation_datagen.flow_from_directory(\n",
        "    VALIDATION_DIR,\n",
        "    target_size=(240,240),\n",
        "    class_mode='binary',\n",
        "    batch_size=vBatchSize\n",
        ")\n",
        "\n",
        "inc_model=InceptionV3(include_top=False,\n",
        "                      input_shape=((240, 240, 3)))\n",
        "\n",
        "x = Flatten()(inc_model.output)\n",
        "x = Dense(64, activation='relu', name='dense_one')(x)\n",
        "x = Dense(64, activation='relu', name='dense_two')(x)\n",
        "top_model=Dense(1, activation='sigmoid', name='output')(x)\n",
        "model = Model(inputs=inc_model.input, outputs=top_model)\n",
        "\n",
        "\n",
        "model.compile(loss = 'binary_crossentropy', optimizer='Adam', metrics='acc')"
      ]
    },
    {
      "cell_type": "code",
      "source": [
        "#callback for 90% accuracy\n",
        "import tensorflow as tf\n",
        "class myCallback(tf.keras.callbacks.Callback):\n",
        "  def on_epoch_end(self, epoch, logs={}):\n",
        "    if(logs.get('acc')>0.90):\n",
        "      print(\"\\nReached 90% accuracy so cancelling training!\")\n",
        "      self.model.stop_training = True\n",
        "\n",
        "callbacks = myCallback()"
      ],
      "metadata": {
        "id": "3vehx3Oa1Ndw"
      },
      "execution_count": null,
      "outputs": []
    },
    {
      "cell_type": "code",
      "execution_count": null,
      "metadata": {
        "id": "Z8GWugJxZv6g",
        "colab": {
          "base_uri": "https://localhost:8080/"
        },
        "outputId": "41d9c111-5a77-4cdd-eb06-a3232a077890"
      },
      "outputs": [
        {
          "output_type": "stream",
          "name": "stdout",
          "text": [
            "Epoch 1/100\n",
            "131/131 [==============================] - 82s 441ms/step - loss: 0.5252 - acc: 0.8481 - val_loss: 5.4407 - val_acc: 0.5034\n",
            "Epoch 2/100\n",
            "131/131 [==============================] - 53s 402ms/step - loss: 0.3017 - acc: 0.8805 - val_loss: 1.4757 - val_acc: 0.7196\n",
            "Epoch 3/100\n",
            "131/131 [==============================] - ETA: 0s - loss: 0.2324 - acc: 0.9081\n",
            "Reached 90% accuracy so cancelling training!\n",
            "131/131 [==============================] - 53s 406ms/step - loss: 0.2324 - acc: 0.9081 - val_loss: 0.8245 - val_acc: 0.6478\n"
          ]
        }
      ],
      "source": [
        "from math import ceil\n",
        "#Train model\n",
        "history = model.fit(train_generator,\n",
        "                    epochs=100,\n",
        "                    steps_per_epoch=ceil((trainNo/tBatchSize)-1),\n",
        "                    validation_data=validation_generator,\n",
        "                    validation_steps= ceil((validNo/ vBatchSize)-1),\n",
        "                    callbacks=[callbacks],\n",
        "                    verbose = 1)"
      ]
    },
    {
      "cell_type": "code",
      "execution_count": null,
      "metadata": {
        "id": "vDEbdzdsdgv-",
        "colab": {
          "base_uri": "https://localhost:8080/",
          "height": 300
        },
        "outputId": "0ff21a4f-36fb-4f8b-8b31-823f15731ad1"
      },
      "outputs": [
        {
          "output_type": "display_data",
          "data": {
            "image/png": "[encoded data removed]",
            "text/plain": [
              "<Figure size 432x288 with 1 Axes>"
            ]
          },
          "metadata": {
            "needs_background": "light"
          }
        },
        {
          "output_type": "display_data",
          "data": {
            "text/plain": [
              "<Figure size 432x288 with 0 Axes>"
            ]
          },
          "metadata": {}
        }
      ],
      "source": [
        "#plot accuracy\n",
        "import matplotlib.pyplot as plt\n",
        "acc = history.history['acc']\n",
        "val_acc = history.history['val_acc']\n",
        "loss = history.history['loss']\n",
        "val_loss = history.history['val_loss']\n",
        "\n",
        "epochs = range(len(acc))\n",
        "\n",
        "plt.plot(epochs, acc, 'r', label = 'Training accuracy')\n",
        "plt.plot(epochs, val_acc, 'b', label='Validation accuracy')\n",
        "plt.title('Training and validation accuracy')\n",
        "plt.legend(loc=0)\n",
        "plt.figure()\n",
        "\n",
        "plt.show()"
      ]
    },
    {
      "cell_type": "code",
      "source": [
        "from keras.preprocessing.image import load_img, img_to_array\n",
        "from sklearn.metrics import confusion_matrix\n",
        "from sklearn.metrics import accuracy_score\n",
        "import numpy as np\n",
        "from keras.preprocessing import image\n",
        "import pandas as pd\n",
        "import seaborn as sn\n",
        "import matplotlib.pyplot as plt\n",
        "\n",
        "predictions = []\n",
        "truths = []\n",
        "\n",
        "\n",
        "for img in os.listdir(\"/content/drive/MyDrive/PoleVsExplicit/split/test/porn\"):\n",
        "  img = \"/content/drive/MyDrive/PoleVsExplicit/split/test/porn/\" + img\n",
        "  img = image.load_img(img, target_size=(240, 240))\n",
        "  img = np.expand_dims(img, axis=0)\n",
        "  #if value of prediction > 0.5, class is '1' (pornography)\n",
        "  predVal = lambda x: 'porn' if x > 0.5 else 'notPorn'\n",
        "  predictions.append(predVal(model.predict(img)))\n",
        "  truths.append(\"porn\")\n",
        "for img in os.listdir(\"/content/drive/MyDrive/PoleVsExplicit/split/test/notPorn/\"):\n",
        "  img = \"/content/drive/MyDrive/PoleVsExplicit/split/test/notPorn/\" + img\n",
        "  img = image.load_img(img, target_size=(240, 240))\n",
        "  img = np.expand_dims(img, axis=0)\n",
        "  #if value of prediction > 0.5, class is '1' (pornography)\n",
        "  predVal = lambda x: 'porn' if x > 0.5 else 'notPorn'\n",
        "  predictions.append(predVal(model.predict(img)))\n",
        "  truths.append(\"notPorn\")\n",
        "\n",
        "labs = ['notPorn', 'porn']\n",
        "\n",
        "#confusion matrix\n",
        "\n",
        "the_matrix = confusion_matrix(truths, predictions, labels=labs)\n",
        "tn,fp,fn,tp = the_matrix.ravel()\n",
        "\n",
        "\n",
        "df_cfm = pd.DataFrame(the_matrix, index = labs, columns = labs)\n",
        "plt.figure(figsize = (10,7))\n",
        "cfm_plot = sn.heatmap(df_cfm, annot=True, fmt='g')\n",
        "cfm_plot.set_title('PornOrNot Test Confusion Matrix')\n",
        "cfm_plot.set_xlabel('Predicted')\n",
        "cfm_plot.set_ylabel('True Label')\n",
        "\n",
        "sensitivity = tp / (tp + fn)\n",
        "specificity = tn / (tn + fp)\n",
        "\n",
        "\n",
        "print(\"Test Accuracy of Porn vs NonPorn:\", accuracy_score(truths, predictions))\n",
        "print(\"Sensitivity:\", sensitivity)\n",
        "print(\"Specificity:\", specificity)"
      ],
      "metadata": {
        "colab": {
          "base_uri": "https://localhost:8080/",
          "height": 513
        },
        "id": "ftwK1TjADPMo",
        "outputId": "e4de43e7-c598-4286-b2d5-6e6accf81a0f"
      },
      "execution_count": null,
      "outputs": [
        {
          "output_type": "stream",
          "name": "stdout",
          "text": [
            "Test Accuracy of Porn vs NonPorn: 0.6283333333333333\n",
            "Sensitivity: 0.62\n",
            "Specificity: 0.6366666666666667\n"
          ]
        },
        {
          "output_type": "display_data",
          "data": {
            "image/png": "[encoded data removed]",
            "text/plain": [
              "<Figure size 720x504 with 2 Axes>"
            ]
          },
          "metadata": {
            "needs_background": "light"
          }
        }
      ]
    },
    {
      "cell_type": "code",
      "source": [
        "#assessing for pole moves = pornography?\n",
        "predictions = []\n",
        "truths = []\n",
        "\n",
        "\n",
        "for img in os.listdir(\"/content/drive/MyDrive/PoleVsExplicit/split/test/porn\"):\n",
        "  img = \"/content/drive/MyDrive/PoleVsExplicit/split/test/porn/\" + img\n",
        "  img = image.load_img(img, target_size=(240, 240))\n",
        "  img = np.expand_dims(img, axis=0)\n",
        "  #if value of prediction > 0.5, class is '1' (pornography)\n",
        "  predVal = lambda x: 'porn' if x > 0.5 else 'pole'\n",
        "  predictions.append(predVal(model.predict(img)))\n",
        "  truths.append(\"porn\")\n",
        "\n",
        "for dir in os.listdir(\"/content/drive/MyDrive/PoleVsExplicit/poleData2/PoleStatic\"):\n",
        "  for img in os.listdir(\"/content/drive/MyDrive/PoleVsExplicit/poleData2/PoleStatic/\" + dir):\n",
        "    img = \"/content/drive/MyDrive/PoleVsExplicit/poleData2/PoleStatic/\" + dir + \"/\" + img\n",
        "    img = image.load_img(img, target_size=(240, 240))\n",
        "    img = np.expand_dims(img, axis=0)\n",
        "    #if value of prediction > 0.5, class is '1' (pornography)\n",
        "    predVal = lambda x: 'porn' if x > 0.5 else 'pole'\n",
        "    predictions.append(predVal(model.predict(img)))\n",
        "    truths.append(\"pole\")\n",
        "#print(predictions)\n",
        "\n",
        "\n",
        "labs = ['pole', 'porn']\n",
        "\n",
        "#confusion matrix\n",
        "\n",
        "the_matrix = confusion_matrix(truths, predictions, labels=labs)\n",
        "tn,fp,fn,tp = the_matrix.ravel()\n",
        "\n",
        "\n",
        "df_cfm = pd.DataFrame(the_matrix, index = labs, columns = labs)\n",
        "plt.figure(figsize = (10,7))\n",
        "cfm_plot = sn.heatmap(df_cfm, annot=True, fmt='g')\n",
        "cfm_plot.set_title('PornOrPole Test Confusion Matrix')\n",
        "cfm_plot.set_xlabel('Predicted')\n",
        "cfm_plot.set_ylabel('True Label')\n",
        "\n",
        "sensitivity = tp / (tp + fn)\n",
        "specificity = tn / (tn + fp)\n",
        "\n",
        "\n",
        "print(\"Test Accuracy of Porn vs Pole:\", accuracy_score(truths, predictions))\n",
        "print(\"Sensitivity:\", sensitivity)\n",
        "print(\"Specificity:\", specificity)"
      ],
      "metadata": {
        "colab": {
          "base_uri": "https://localhost:8080/",
          "height": 513
        },
        "id": "EU-BXzioEdrJ",
        "outputId": "f3427e4d-3991-4a90-eb16-b4a603ca7a7e"
      },
      "execution_count": null,
      "outputs": [
        {
          "output_type": "stream",
          "name": "stdout",
          "text": [
            "Test Accuracy of Porn vs Pole: 0.696\n",
            "Sensitivity: 0.62\n",
            "Specificity: 1.0\n"
          ]
        },
        {
          "output_type": "display_data",
          "data": {
            "image/png": "[encoded data removed]",
            "text/plain": [
              "<Figure size 720x504 with 2 Axes>"
            ]
          },
          "metadata": {
            "needs_background": "light"
          }
        }
      ]
    }
  ],
  "metadata": {
    "accelerator": "GPU",
    "colab": {
      "name": "SimultaneouslyWithPole.ipynb",
      "provenance": [],
      "collapsed_sections": []
    },
    "kernelspec": {
      "display_name": "Python 3",
      "name": "python3"
    },
    "language_info": {
      "name": "python"
    }
  },
  "nbformat": 4,
  "nbformat_minor": 0
}