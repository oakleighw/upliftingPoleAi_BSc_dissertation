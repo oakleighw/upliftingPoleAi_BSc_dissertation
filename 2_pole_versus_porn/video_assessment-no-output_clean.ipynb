{
 "cells": [
  {
   "cell_type": "markdown",
   "metadata": {
    "id": "8IVyRcPtTlnE"
   },
   "source": [
    "# This Notebook assesses model techniques of video classification analyzing different frames and algorithms.\n",
    "This Notebook includes Explicit Imagery due to Pornography Analysis"
   ]
  },
  {
   "cell_type": "code",
   "execution_count": null,
   "metadata": {
    "colab": {
     "base_uri": "https://localhost:8080/"
    },
    "id": "0K_4PeEeTuk6",
    "outputId": "0bf9d905-3b8b-4ad9-dd3b-6916e0f9504f"
   },
   "outputs": [],
   "source": [
    "from google.colab import drive\n",
    "drive.mount('/content/drive')"
   ]
  },
  {
   "cell_type": "code",
   "execution_count": null,
   "metadata": {
    "id": "8W2eT-oNHzfR"
   },
   "outputs": [],
   "source": [
    "from tensorflow import keras\n",
    "#load weights\n",
    "model = keras.models.load_model('/content/drive/MyDrive/PoleVsExplicit/saved models/pVe.h5')"
   ]
  },
  {
   "cell_type": "code",
   "execution_count": null,
   "metadata": {
    "id": "b9zKIZfGL0T_"
   },
   "outputs": [],
   "source": [
    "#Convert to frames\n",
    "import cv2\n",
    "import numpy as np\n",
    "import os\n",
    "\n",
    "def vidToFrames(path, Nthframe):\n",
    "  vidcap = cv2.VideoCapture(path)\n",
    "\n",
    "  frames = []\n",
    "\n",
    "  #get nth frame\n",
    "  n = Nthframe # this is nth\n",
    "  it = 0 # this is for assessing if current frame = n\n",
    "\n",
    "  # checks whether frames were extracted\n",
    "  success = 1\n",
    "\n",
    "  while success:\n",
    "    # vidObj object calls read\n",
    "    # function extract frames\n",
    "    success, frame = vidcap.read()\n",
    "\n",
    "    #if it isn't nth frame, continue\n",
    "    if it != n:\n",
    "      it += 1\n",
    "      continue\n",
    "    #else set 'iterator' to 0 and process frame\n",
    "    else:\n",
    "      it = 0\n",
    "      try: #if image is BGR not RGB, then change\n",
    "        imageRGB = cv2.cvtColor(frame, cv2.COLOR_BGR2RGB)\n",
    "      except:\n",
    "        imageRGB = frame\n",
    "      frames.append(imageRGB)\n",
    "\n",
    "  vidcap.release()\n",
    "  return frames"
   ]
  },
  {
   "cell_type": "code",
   "execution_count": null,
   "metadata": {
    "id": "p2W9qd59WDPh"
   },
   "outputs": [],
   "source": [
    "def predictFrames(frames):\n",
    "  predictions = []\n",
    "  for frame in frames[0:-2]:\n",
    "    img = cv2.resize(frame, (240, 240), interpolation = cv2.INTER_AREA)\n",
    "    img = np.expand_dims(img, axis=0)\n",
    "    predictions.append(model.predict(img))\n",
    "  #remove extra dimensions\n",
    "  predictions = np.squeeze(predictions)\n",
    "  return predictions"
   ]
  },
  {
   "cell_type": "code",
   "execution_count": null,
   "metadata": {
    "id": "U0nrwwoBaStg"
   },
   "outputs": [],
   "source": [
    "from math import sqrt\n",
    "\n",
    "#Favour explicit classifications at the beginning of a video\n",
    "def begWeighted(predictions): \n",
    "  total = 0 #sum to be averaged\n",
    "  for i in range (0,len(predictions)):\n",
    "    #weighted prediction = prediction - (prediction * i/n predictions). Approaching the end, explicit prediction is penalized more.\n",
    "    total += ((predictions[i] - (predictions[i] * i/len(predictions))))\n",
    "  return total/len(predictions)"
   ]
  },
  {
   "cell_type": "code",
   "execution_count": null,
   "metadata": {
    "id": "MnCn-ooX3TAO"
   },
   "outputs": [],
   "source": [
    "#Favour explicit classifications at the end of a video\n",
    "def endWeighted(predictions):\n",
    "  total = 0 #sum to be averaged\n",
    "  j = 0 #index increasing from 0\n",
    "\n",
    "  for i in range (len(predictions)-1,-1, -1): #i = index going backwards\n",
    "    #weighted prediction = prediction - prediction * i/n predictions. Approaching the beginning, explicit prediction is penalized more.\n",
    "    total += ((predictions[i] - (predictions[i] * j/len(predictions))))\n",
    "    j+=1\n",
    "  return total/len(predictions) "
   ]
  },
  {
   "cell_type": "code",
   "execution_count": null,
   "metadata": {
    "id": "KNT7socdoZet"
   },
   "outputs": [],
   "source": [
    "#Favour explicit classifications at the centre of a video\n",
    "def midWeighted(predictions):\n",
    "  total = 0\n",
    "  for i in range (0,len(predictions)):\n",
    "    #weighted prediction = prediction - prediction * sqrt(((i+1)/n - 0.5)**2). Further from the center of predictions, explicit prediction is penalised more\n",
    "    weight = sqrt((((i+1)/len(predictions)-0.5)**2))\n",
    "    weight = predictions[i] - predictions[i] * weight\n",
    "    total += weight\n",
    "  return total/len(predictions)"
   ]
  },
  {
   "cell_type": "code",
   "execution_count": null,
   "metadata": {
    "id": "nUQIoryOZgwX"
   },
   "outputs": [],
   "source": [
    "#analyse video\n",
    "import matplotlib.pyplot as plt\n",
    "def analyseVideo(path,NthFrame = 0):\n",
    "  frames = vidToFrames(path,NthFrame)\n",
    "  plt.imshow(frames[0])\n",
    "  plt.show()\n",
    "  print(\"Number of frames:\", len(frames))\n",
    "\n",
    "  predictions = predictFrames(frames)\n",
    "  print(\"Mean classification:\" ,np.average(predictions))\n",
    "  print(\"Median classification:\" ,np.median(predictions))\n",
    "  begW = begWeighted(predictions)\n",
    "  midW = midWeighted(predictions)\n",
    "  endW = endWeighted(predictions)\n",
    "  print(\"Beginning-Weighted Mean classification:\" , begW)\n",
    "  print(\"Mid-Weighted Mean classification:\" , midW)\n",
    "  print(\"End-Weighted Mean classification:\" , endW)\n",
    "  fullyWeighted = (begW + midW + endW)/3\n",
    "  print(\"Fully-Weighted Mean classification:\" , fullyWeighted)"
   ]
  },
  {
   "cell_type": "code",
   "execution_count": null,
   "metadata": {
    "colab": {
     "base_uri": "https://localhost:8080/",
     "height": 718
    },
    "id": "G2ucvapYJZ9S",
    "outputId": "36cdc955-7eef-442b-f183-4c8c803fc9c3"
   },
   "outputs": [],
   "source": [
    "#Video 1 (Pole - Standard)\n",
    "#Each video examined twice; every frame and at every 5th frame\n",
    "analyseVideo('/content/drive/MyDrive/PoleVsExplicit/ClassifyVideos/poleStandardTest.mp4')\n",
    "analyseVideo('/content/drive/MyDrive/PoleVsExplicit/ClassifyVideos/poleStandardTest.mp4',5)"
   ]
  },
  {
   "cell_type": "code",
   "execution_count": null,
   "metadata": {
    "colab": {
     "base_uri": "https://localhost:8080/",
     "height": 776
    },
    "id": "-iSjVnTzhqyS",
    "outputId": "32e77c67-872c-4358-88c4-3f2336fb5b2d"
   },
   "outputs": [],
   "source": [
    "#Video 2 (Pole- x2 Speed & Rotation)\n",
    "analyseVideo('/content/drive/MyDrive/PoleVsExplicit/ClassifyVideos/polex2Speed.mp4')\n",
    "analyseVideo('/content/drive/MyDrive/PoleVsExplicit/ClassifyVideos/polex2Speed.mp4',5)"
   ]
  },
  {
   "cell_type": "code",
   "execution_count": null,
   "metadata": {
    "colab": {
     "base_uri": "https://localhost:8080/",
     "height": 718
    },
    "id": "-2WvPbKALSLt",
    "outputId": "23e8f82e-60c8-4c12-fcb5-1a5d1112bc5d"
   },
   "outputs": [],
   "source": [
    "#Video 3 (Pole - Far Perspective)\n",
    "analyseVideo('/content/drive/MyDrive/PoleVsExplicit/ClassifyVideos/poleFarTest.mp4')\n",
    "analyseVideo('/content/drive/MyDrive/PoleVsExplicit/ClassifyVideos/poleFarTest.mp4',5)"
   ]
  },
  {
   "cell_type": "code",
   "execution_count": null,
   "metadata": {
    "colab": {
     "base_uri": "https://localhost:8080/",
     "height": 776
    },
    "id": "U0fAqxWWLZTB",
    "outputId": "77f44564-f4ce-44d3-a82c-567925970f89"
   },
   "outputs": [],
   "source": [
    "#Video 4 (Pole - Moving)\n",
    "analyseVideo('/content/drive/MyDrive/PoleVsExplicit/ClassifyVideos/poleMovingTest.mp4')\n",
    "analyseVideo('/content/drive/MyDrive/PoleVsExplicit/ClassifyVideos/poleMovingTest.mp4',5)"
   ]
  },
  {
   "cell_type": "code",
   "execution_count": null,
   "metadata": {
    "colab": {
     "base_uri": "https://localhost:8080/",
     "height": 710
    },
    "id": "fG7CTf06LxGC",
    "outputId": "062abbd0-35ff-499f-8ce8-2ad16e61cee9"
   },
   "outputs": [],
   "source": [
    "#Video 5 (Pole - UV Lighting)\n",
    "analyseVideo('/content/drive/MyDrive/PoleVsExplicit/ClassifyVideos/poleUVTest.mp4')\n",
    "analyseVideo('/content/drive/MyDrive/PoleVsExplicit/ClassifyVideos/poleUVTest.mp4',5)"
   ]
  },
  {
   "cell_type": "code",
   "execution_count": null,
   "metadata": {
    "colab": {
     "base_uri": "https://localhost:8080/",
     "height": 1000
    },
    "id": "AXYneQQdzahx",
    "outputId": "2bd9c172-c9dd-4995-9951-7cfcbf90044e"
   },
   "outputs": [],
   "source": [
    "#Video 6 & 7 (Porn- wsm)\n",
    "analyseVideo('/content/drive/MyDrive/PoleVsExplicit/ClassifyVideos/straight01.avi')\n",
    "analyseVideo('/content/drive/MyDrive/PoleVsExplicit/ClassifyVideos/straight01.avi',5)\n",
    "\n",
    "analyseVideo('/content/drive/MyDrive/PoleVsExplicit/ClassifyVideos/straight02.avi')\n",
    "analyseVideo('/content/drive/MyDrive/PoleVsExplicit/ClassifyVideos/straight02.avi',5)"
   ]
  },
  {
   "cell_type": "code",
   "execution_count": null,
   "metadata": {
    "colab": {
     "base_uri": "https://localhost:8080/",
     "height": 1000
    },
    "id": "VlICbTOv0CTh",
    "outputId": "f81489b2-2cf6-4166-baa3-83e7f989f2bc"
   },
   "outputs": [],
   "source": [
    "#Video 8 & 9 (Porn- msm)\n",
    "analyseVideo('/content/drive/MyDrive/PoleVsExplicit/ClassifyVideos/gay01.avi')\n",
    "analyseVideo('/content/drive/MyDrive/PoleVsExplicit/ClassifyVideos/gay01.avi',5)\n",
    "\n",
    "analyseVideo('/content/drive/MyDrive/PoleVsExplicit/ClassifyVideos/gay02.avi')\n",
    "analyseVideo('/content/drive/MyDrive/PoleVsExplicit/ClassifyVideos/gay02.avi',5)"
   ]
  },
  {
   "cell_type": "code",
   "execution_count": null,
   "metadata": {
    "colab": {
     "base_uri": "https://localhost:8080/",
     "height": 1000
    },
    "id": "iPsBThsL0TMI",
    "outputId": "c5fc03e6-cf8d-452b-e7fd-6da19d98782c"
   },
   "outputs": [],
   "source": [
    "#Video 10 & 11 (Porn- wsw)\n",
    "analyseVideo('/content/drive/MyDrive/PoleVsExplicit/ClassifyVideos/lesbian01.avi')\n",
    "analyseVideo('/content/drive/MyDrive/PoleVsExplicit/ClassifyVideos/lesbian01.avi',5)\n",
    "\n",
    "analyseVideo('/content/drive/MyDrive/PoleVsExplicit/ClassifyVideos/lesbian02.avi')\n",
    "analyseVideo('/content/drive/MyDrive/PoleVsExplicit/ClassifyVideos/lesbian02.avi',5)"
   ]
  },
  {
   "cell_type": "code",
   "execution_count": null,
   "metadata": {
    "colab": {
     "base_uri": "https://localhost:8080/",
     "height": 1000
    },
    "id": "oodOiEoS0eKp",
    "outputId": "e5d9c756-5351-4c77-af4c-2f53855a6d0c"
   },
   "outputs": [],
   "source": [
    "#Video 12 & 13 (Porn- Cartoon wsm)\n",
    "analyseVideo('/content/drive/MyDrive/PoleVsExplicit/ClassifyVideos/cartoon01.avi')\n",
    "analyseVideo('/content/drive/MyDrive/PoleVsExplicit/ClassifyVideos/cartoon01.avi',5)\n",
    "\n",
    "analyseVideo('/content/drive/MyDrive/PoleVsExplicit/ClassifyVideos/cartoon02.avi')\n",
    "analyseVideo('/content/drive/MyDrive/PoleVsExplicit/ClassifyVideos/cartoon02.avi',5)"
   ]
  }
 ],
 "metadata": {
  "accelerator": "GPU",
  "colab": {
   "collapsed_sections": [],
   "name": "AssessVideo.ipynb",
   "provenance": []
  },
  "kernelspec": {
   "display_name": "Python 3",
   "language": "python",
   "name": "python3"
  },
  "language_info": {
   "codemirror_mode": {
    "name": "ipython",
    "version": 3
   },
   "file_extension": ".py",
   "mimetype": "text/x-python",
   "name": "python",
   "nbconvert_exporter": "python",
   "pygments_lexer": "ipython3",
   "version": "3.8.8"
  }
 },
 "nbformat": 4,
 "nbformat_minor": 1
}
