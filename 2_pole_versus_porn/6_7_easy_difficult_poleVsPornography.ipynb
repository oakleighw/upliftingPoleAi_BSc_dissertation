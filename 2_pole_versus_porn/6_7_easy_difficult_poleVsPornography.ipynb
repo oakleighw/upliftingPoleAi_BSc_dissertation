{
  "cells": [
    {
      "cell_type": "markdown",
      "metadata": {
        "id": "8IVyRcPtTlnE"
      },
      "source": [
        "# This Notebook assesses whether Pole Imagery is flagged as Pornography when trained with \"easy\", \"difficult\" non-pole neutral data, pole data and pornography. Uses ROC"
      ]
    },
    {
      "cell_type": "code",
      "execution_count": null,
      "metadata": {
        "colab": {
          "base_uri": "https://localhost:8080/"
        },
        "id": "0K_4PeEeTuk6",
        "outputId": "e48ecad9-4c4a-4065-dd60-a0f18339d2a7"
      },
      "outputs": [
        {
          "output_type": "stream",
          "name": "stdout",
          "text": [
            "Mounted at /content/drive\n"
          ]
        }
      ],
      "source": [
        "from google.colab import drive\n",
        "drive.mount('/content/drive')"
      ]
    },
    {
      "cell_type": "code",
      "execution_count": null,
      "metadata": {
        "id": "3Or5kqvfTIvm"
      },
      "outputs": [],
      "source": [
        "#get directories\n",
        "pornDir = \"/content/drive/MyDrive/PoleVsExplicit/prng dataset/Frames/vPorn\"\n",
        "notPornEasy = \"/content/drive/MyDrive/PoleVsExplicit/prng dataset/Frames/vNonPornEasy\"\n",
        "notPornDifficult = \"/content/drive/MyDrive/PoleVsExplicit/prng dataset/Frames/vNonPornDifficulty\""
      ]
    },
    {
      "cell_type": "code",
      "execution_count": null,
      "metadata": {
        "id": "NE3038WZUpNo"
      },
      "outputs": [],
      "source": [
        "import os\n",
        "import matplotlib.pyplot as plt\n",
        "\n",
        "#create image lists\n",
        "\n",
        "\n",
        "porn = []\n",
        "notPornE = []\n",
        "notPornD = []\n",
        "pole = []\n",
        "\n",
        "for dir in os.listdir(\"/content/drive/MyDrive/PoleVsExplicit/poleData/polePoseRecognition\"):\n",
        "  for file in os.listdir(\"/content/drive/MyDrive/PoleVsExplicit/poleData/polePoseRecognition/\" + dir):\n",
        "    pole.append(plt.imread(\"/content/drive/MyDrive/PoleVsExplicit/poleData/polePoseRecognition/\" + dir + \"/\" + file))\n",
        "\n",
        "for file in os.listdir(notPornEasy):\n",
        "    notPornE.append(plt.imread(notPornEasy + '/' + file))\n",
        "\n",
        "for file in os.listdir(notPornDifficult):\n",
        "    notPornD.append(plt.imread(notPornDifficult + '/' + file))\n",
        "    \n",
        "for file in os.listdir(pornDir):\n",
        "    porn.append(plt.imread(pornDir + '/' + file))"
      ]
    },
    {
      "cell_type": "code",
      "execution_count": null,
      "metadata": {
        "colab": {
          "base_uri": "https://localhost:8080/"
        },
        "id": "7yQm0Y1HWSl2",
        "outputId": "abae9110-1077-4931-bd74-01e4588fd4c1"
      },
      "outputs": [
        {
          "output_type": "stream",
          "name": "stderr",
          "text": [
            "/usr/local/lib/python3.7/dist-packages/ipykernel_launcher.py:3: VisibleDeprecationWarning: Creating an ndarray from ragged nested sequences (which is a list-or-tuple of lists-or-tuples-or ndarrays with different lengths or shapes) is deprecated. If you meant to do this, you must specify 'dtype=object' when creating the ndarray.\n",
            "  This is separate from the ipykernel package so we can avoid doing imports until\n",
            "/usr/local/lib/python3.7/dist-packages/ipykernel_launcher.py:4: VisibleDeprecationWarning: Creating an ndarray from ragged nested sequences (which is a list-or-tuple of lists-or-tuples-or ndarrays with different lengths or shapes) is deprecated. If you meant to do this, you must specify 'dtype=object' when creating the ndarray.\n",
            "  after removing the cwd from sys.path.\n",
            "<string>:6: VisibleDeprecationWarning: Creating an ndarray from ragged nested sequences (which is a list-or-tuple of lists-or-tuples-or ndarrays with different lengths or shapes) is deprecated. If you meant to do this, you must specify 'dtype=object' when creating the ndarray.\n"
          ]
        }
      ],
      "source": [
        "import numpy as np\n",
        "#randomly select 3000 of each\n",
        "pornSample = np.random.choice(porn,3000) \n",
        "notPornSample = np.concatenate((np.random.choice(notPornE,1319),np.random.choice(notPornD,1319))) # pole has 362, adding total non-porn to 3000\n",
        "np.random.shuffle(notPornSample)\n",
        "notPornSample = np.concatenate((pole,notPornSample)) # such that pole data is kept within training when sliced"
      ]
    },
    {
      "cell_type": "code",
      "execution_count": null,
      "metadata": {
        "colab": {
          "base_uri": "https://localhost:8080/"
        },
        "id": "QrP-cbv0Wi6y",
        "outputId": "a1a5c326-b548-41fd-d43b-a4a50c083b5b"
      },
      "outputs": [
        {
          "output_type": "stream",
          "name": "stdout",
          "text": [
            "Porn Train Images: 2100\n",
            "Porn Validation Images: 600\n",
            "Porn Test Images: 300\n",
            "Neutral Train Images: 2100\n",
            "Neutral Validation Images: 600\n",
            "Neutral Test Images: 300\n"
          ]
        }
      ],
      "source": [
        "#create test and train\n",
        "#70% train 30% test\n",
        "trainDivide = int(len(pornSample) * 0.7)\n",
        "validDivide = int(len(pornSample) * 0.2)\n",
        "\n",
        "pornTrain = pornSample[0:trainDivide]\n",
        "pornVal = pornSample[trainDivide: trainDivide + validDivide]\n",
        "pornTest = pornSample[trainDivide + validDivide:]\n",
        "\n",
        "nPornTrain = notPornSample[0:trainDivide]\n",
        "nPornVal = notPornSample[trainDivide: trainDivide + validDivide]\n",
        "nPornTest = notPornSample[trainDivide + validDivide:]\n",
        "\n",
        "print(\"Porn Train Images:\", len(pornTrain))\n",
        "print(\"Porn Validation Images:\",len(pornVal))\n",
        "print(\"Porn Test Images:\",len(pornTest))\n",
        "\n",
        "\n",
        "print(\"Neutral Train Images:\",len(nPornTrain))\n",
        "print(\"Neutral Validation Images:\",len(nPornVal))\n",
        "print(\"Neutral Test Images:\",len(nPornTest))\n",
        "\n",
        "trainNo = len(pornTrain) + len(nPornTrain)\n",
        "validNo = len(pornVal) + len(nPornVal)"
      ]
    },
    {
      "cell_type": "code",
      "execution_count": null,
      "metadata": {
        "id": "1q576qebWmUk"
      },
      "outputs": [],
      "source": [
        "####################################################\n",
        "# Remove directories if needed\n",
        "####################################################\n",
        "\n",
        "trainPath = \"/content/drive/MyDrive/PoleVsExplicit/split/train\"\n",
        "validPath = \"/content/drive/MyDrive/PoleVsExplicit/split/valid\"\n",
        "testPath = \"/content/drive/MyDrive/PoleVsExplicit/split/test\"\n",
        "\n",
        "if os.path.exists(trainPath):\n",
        "  for directory in os.listdir(trainPath):\n",
        "    for file in os.listdir(trainPath + \"/\" + directory):\n",
        "        os.remove(trainPath + \"/\" + directory + \"/\" + file)\n",
        "    os.rmdir(trainPath + \"/\" + directory)\n",
        "\n",
        "if os.path.exists(validPath):\n",
        "  for directory in os.listdir(validPath):\n",
        "    for file in os.listdir(validPath + \"/\" + directory):\n",
        "        os.remove(validPath + \"/\" + directory + \"/\" + file)\n",
        "    os.rmdir(validPath + \"/\" + directory)\n",
        "\n",
        "if os.path.exists(testPath):\n",
        "  for directory in os.listdir(testPath):\n",
        "    for file in os.listdir(testPath + \"/\" + directory):\n",
        "        os.remove(testPath + \"/\" + directory + \"/\" + file)\n",
        "    os.rmdir(testPath + \"/\" + directory)"
      ]
    },
    {
      "cell_type": "code",
      "execution_count": null,
      "metadata": {
        "id": "YeKWUy_fWqn5"
      },
      "outputs": [],
      "source": [
        "#create directories for train/test split\n",
        "if not os.path.exists(trainPath):  \n",
        "    os.makedirs(trainPath)\n",
        "\n",
        "if not os.path.exists(validPath):  \n",
        "    os.makedirs(validPath)\n",
        "\n",
        "if not os.path.exists(testPath):  \n",
        "    os.makedirs(testPath)"
      ]
    },
    {
      "cell_type": "code",
      "execution_count": null,
      "metadata": {
        "id": "HtPsfp3fW_lF"
      },
      "outputs": [],
      "source": [
        "#create class directories\n",
        "if not os.path.exists(trainPath + \"/\" + \"porn\"):  \n",
        "    os.makedirs(trainPath + \"/\" + \"porn\")\n",
        "    \n",
        "if not os.path.exists(trainPath + \"/\" + \"notPorn\"):  \n",
        "    os.makedirs(trainPath + \"/\" + \"notPorn\")\n",
        "\n",
        "if not os.path.exists(validPath + \"/\" + \"porn\"):  \n",
        "    os.makedirs(validPath + \"/\" + \"porn\")\n",
        "\n",
        "if not os.path.exists(validPath + \"/\" + \"notPorn\"):  \n",
        "    os.makedirs(validPath + \"/\" + \"notPorn\")\n",
        "    \n",
        "if not os.path.exists(testPath + \"/\" + \"porn\"):  \n",
        "    os.makedirs(testPath + \"/\" + \"porn\")\n",
        "    \n",
        "if not os.path.exists(testPath + \"/\" + \"notPorn\"):  \n",
        "    os.makedirs(testPath + \"/\" + \"notPorn\")"
      ]
    },
    {
      "cell_type": "code",
      "execution_count": null,
      "metadata": {
        "id": "6fow_MoKXBbN"
      },
      "outputs": [],
      "source": [
        "#Save Split image datasets to directory\n",
        "from PIL import Image  \n",
        "\n",
        "for i in range(0,len(pornTrain)):\n",
        "    fname = \"pornTrain_\" + str(i)\n",
        "    im = Image.fromarray(pornTrain[i])\n",
        "    im.save((\"/content/drive/MyDrive/PoleVsExplicit/split/train/porn/\") + fname + \".jpg\")\n",
        "\n",
        "for i in range(0,len(pornTest)):\n",
        "    fname = \"pornTest_\" + str(i)\n",
        "    im = Image.fromarray(pornTest[i])\n",
        "    im.save((\"/content/drive/MyDrive/PoleVsExplicit/split/test/porn/\") + fname + \".jpg\")   \n",
        "\n",
        "\n",
        "for i in range(0,len(pornVal)):\n",
        "    fname = \"pornVal_\" + str(i)\n",
        "    im = Image.fromarray(pornVal[i])\n",
        "    im.save((\"/content/drive/MyDrive/PoleVsExplicit/split/valid/porn/\") + fname + \".jpg\")\n",
        "\n",
        "for i in range(0,len(nPornVal)):\n",
        "    fname = \"nPornVal_\" + str(i)\n",
        "    im = Image.fromarray(nPornVal[i])\n",
        "    im.save((\"/content/drive/MyDrive/PoleVsExplicit/split/valid/notPorn/\") + fname + \".jpg\")   \n",
        "\n",
        "\n",
        "\n",
        "for i in range(0,len(nPornTrain)):\n",
        "    fname = \"nPornTrain_\" + str(i)\n",
        "    im = Image.fromarray(nPornTrain[i])\n",
        "    im = im.convert('RGB') #remove alpha channel included with pole images\n",
        "    im.save((\"/content/drive/MyDrive/PoleVsExplicit/split/train/notPorn/\") + fname + \".jpg\") \n",
        "\n",
        "for i in range(0,len(nPornTest)):\n",
        "    fname = \"nPornTest_\" + str(i)\n",
        "    im = Image.fromarray(nPornTest[i])\n",
        "    im.save((\"/content/drive/MyDrive/PoleVsExplicit/split/test/notPorn/\") + fname + \".jpg\")"
      ]
    },
    {
      "cell_type": "code",
      "execution_count": null,
      "metadata": {
        "id": "gixdFeLPIcVO"
      },
      "outputs": [],
      "source": [
        "#delete variables to save RAM\n",
        "del(porn)\n",
        "del(notPornE)\n",
        "del(notPornD)\n",
        "del(pole)\n",
        "del(pornSample)\n",
        "del(notPornSample)\n",
        "del(pornTrain)\n",
        "del(pornVal)\n",
        "del(pornTest)\n",
        "del(nPornTrain)\n",
        "del(nPornVal)\n",
        "del(nPornTest)"
      ]
    },
    {
      "cell_type": "markdown",
      "metadata": {
        "id": "QbCu68fMkKBN"
      },
      "source": [
        "[Reference](https://github.com/MaxTitkov/Keras_InceptionV3_Binary_classification/blob/master/complete_model.py)"
      ]
    },
    {
      "cell_type": "code",
      "execution_count": null,
      "metadata": {
        "colab": {
          "base_uri": "https://localhost:8080/"
        },
        "id": "TseP9HkzZjfN",
        "outputId": "155be966-fc17-43b7-b45d-d4435db65cce"
      },
      "outputs": [
        {
          "output_type": "stream",
          "name": "stdout",
          "text": [
            "Found 4200 images belonging to 2 classes.\n",
            "Found 1200 images belonging to 2 classes.\n",
            "Downloading data from https://storage.googleapis.com/tensorflow/keras-applications/inception_v3/inception_v3_weights_tf_dim_ordering_tf_kernels_notop.h5\n",
            "87916544/87910968 [==============================] - 2s 0us/step\n",
            "87924736/87910968 [==============================] - 2s 0us/step\n"
          ]
        }
      ],
      "source": [
        "from keras.applications.inception_v3 import InceptionV3\n",
        "from keras.applications.inception_v3 import preprocess_input\n",
        "#Define Model\n",
        "import tensorflow as tf\n",
        "import keras_preprocessing\n",
        "from keras_preprocessing import image\n",
        "from keras_preprocessing.image import ImageDataGenerator\n",
        "from keras.layers import Dropout, Flatten, Dense\n",
        "from keras.models import Model\n",
        "\n",
        "tBatchSize = 32 #32-64\n",
        "vBatchSize = 32\n",
        "#Define imageDataGenerators and Model\n",
        "TRAINING_DIR = \"/content/drive/MyDrive/PoleVsExplicit/split/train\"\n",
        "training_datagen = ImageDataGenerator()\n",
        "\n",
        "train_generator = training_datagen.flow_from_directory(\n",
        "    TRAINING_DIR,\n",
        "    target_size=(240,240),\n",
        "    class_mode='binary',\n",
        "    batch_size=tBatchSize\n",
        ")\n",
        "VALIDATION_DIR = \"/content/drive/MyDrive/PoleVsExplicit/split/valid\"\n",
        "validation_datagen=ImageDataGenerator()\n",
        "\n",
        "validation_generator = validation_datagen.flow_from_directory(\n",
        "    VALIDATION_DIR,\n",
        "    target_size=(240,240),\n",
        "    class_mode='binary',\n",
        "    batch_size=vBatchSize\n",
        ")\n",
        "\n",
        "inc_model=InceptionV3(include_top=False,\n",
        "                      input_shape=((240, 240, 3)))\n",
        "\n",
        "x = Flatten()(inc_model.output)\n",
        "x = Dense(64, activation='relu', name='dense_one')(x)\n",
        "x = Dense(64, activation='relu', name='dense_two')(x)\n",
        "top_model=Dense(1, activation='sigmoid', name='output')(x)\n",
        "model = Model(inputs=inc_model.input, outputs=top_model)\n",
        "\n",
        "model.compile(loss = 'binary_crossentropy', optimizer='Adam', metrics='acc')"
      ]
    },
    {
      "cell_type": "code",
      "execution_count": null,
      "metadata": {
        "id": "3vehx3Oa1Ndw"
      },
      "outputs": [],
      "source": [
        "#callback for 93% validation accuracy\n",
        "import tensorflow as tf\n",
        "class myCallback(tf.keras.callbacks.Callback):\n",
        "  def on_epoch_end(self, epoch, logs={}):\n",
        "    if(logs.get('val_acc')>0.93):\n",
        "      print(\"\\nReached 93% validation accuracy so cancelling training!\")\n",
        "      self.model.stop_training = True\n",
        "\n",
        "callbacks = myCallback()"
      ]
    },
    {
      "cell_type": "code",
      "execution_count": null,
      "metadata": {
        "colab": {
          "base_uri": "https://localhost:8080/"
        },
        "id": "Z8GWugJxZv6g",
        "outputId": "2381fcad-d05a-418e-b76a-fcd4cf98b80f"
      },
      "outputs": [
        {
          "output_type": "stream",
          "name": "stdout",
          "text": [
            "Epoch 1/100\n",
            "131/131 [==============================] - 63s 344ms/step - loss: 0.7214 - acc: 0.7874 - val_loss: 38.9562 - val_acc: 0.4772\n",
            "Epoch 2/100\n",
            "131/131 [==============================] - 41s 314ms/step - loss: 0.3636 - acc: 0.8481 - val_loss: 17.6406 - val_acc: 0.5118\n",
            "Epoch 3/100\n",
            "131/131 [==============================] - 41s 314ms/step - loss: 0.2809 - acc: 0.8880 - val_loss: 0.9231 - val_acc: 0.8429\n",
            "Epoch 4/100\n",
            "131/131 [==============================] - 42s 317ms/step - loss: 0.2733 - acc: 0.8829 - val_loss: 13.1203 - val_acc: 0.5253\n",
            "Epoch 5/100\n",
            "131/131 [==============================] - 41s 314ms/step - loss: 0.2793 - acc: 0.8803 - val_loss: 13.4058 - val_acc: 0.7517\n",
            "Epoch 6/100\n",
            "131/131 [==============================] - 42s 318ms/step - loss: 0.2664 - acc: 0.8865 - val_loss: 0.5131 - val_acc: 0.7931\n",
            "Epoch 7/100\n",
            "131/131 [==============================] - 42s 318ms/step - loss: 0.2254 - acc: 0.9040 - val_loss: 0.4657 - val_acc: 0.8615\n",
            "Epoch 8/100\n",
            "131/131 [==============================] - 41s 314ms/step - loss: 0.1819 - acc: 0.9225 - val_loss: 0.2822 - val_acc: 0.8843\n",
            "Epoch 9/100\n",
            "131/131 [==============================] - 42s 316ms/step - loss: 0.1506 - acc: 0.9415 - val_loss: 1.2402 - val_acc: 0.6461\n",
            "Epoch 10/100\n",
            "131/131 [==============================] - 41s 314ms/step - loss: 0.2091 - acc: 0.9107 - val_loss: 0.6394 - val_acc: 0.8682\n",
            "Epoch 11/100\n",
            "131/131 [==============================] - 41s 313ms/step - loss: 0.1734 - acc: 0.9299 - val_loss: 0.3201 - val_acc: 0.8792\n",
            "Epoch 12/100\n",
            "131/131 [==============================] - 41s 312ms/step - loss: 0.1319 - acc: 0.9472 - val_loss: 0.2747 - val_acc: 0.9020\n",
            "Epoch 13/100\n",
            "131/131 [==============================] - 41s 309ms/step - loss: 0.1208 - acc: 0.9511 - val_loss: 0.2093 - val_acc: 0.9231\n",
            "Epoch 14/100\n",
            "131/131 [==============================] - 41s 310ms/step - loss: 0.1255 - acc: 0.9484 - val_loss: 0.6667 - val_acc: 0.8167\n",
            "Epoch 15/100\n",
            "131/131 [==============================] - 41s 309ms/step - loss: 0.1007 - acc: 0.9623 - val_loss: 0.7685 - val_acc: 0.7162\n",
            "Epoch 16/100\n",
            "131/131 [==============================] - 40s 309ms/step - loss: 0.1494 - acc: 0.9369 - val_loss: 0.3167 - val_acc: 0.8539\n",
            "Epoch 17/100\n",
            "131/131 [==============================] - 41s 310ms/step - loss: 0.1388 - acc: 0.9465 - val_loss: 0.3269 - val_acc: 0.8877\n",
            "Epoch 18/100\n",
            "131/131 [==============================] - 40s 308ms/step - loss: 0.2404 - acc: 0.9009 - val_loss: 63.9915 - val_acc: 0.5963\n",
            "Epoch 19/100\n",
            "131/131 [==============================] - 41s 309ms/step - loss: 0.1795 - acc: 0.9278 - val_loss: 0.8311 - val_acc: 0.7601\n",
            "Epoch 20/100\n",
            "131/131 [==============================] - 41s 309ms/step - loss: 0.1488 - acc: 0.9388 - val_loss: 2.0612 - val_acc: 0.6073\n",
            "Epoch 21/100\n",
            "131/131 [==============================] - 41s 310ms/step - loss: 0.1056 - acc: 0.9609 - val_loss: 0.9822 - val_acc: 0.7618\n",
            "Epoch 22/100\n",
            "131/131 [==============================] - 40s 308ms/step - loss: 0.0828 - acc: 0.9674 - val_loss: 0.3653 - val_acc: 0.8995\n",
            "Epoch 23/100\n",
            "131/131 [==============================] - 41s 310ms/step - loss: 0.0822 - acc: 0.9679 - val_loss: 0.3837 - val_acc: 0.8919\n",
            "Epoch 24/100\n",
            "131/131 [==============================] - ETA: 0s - loss: 0.0782 - acc: 0.9712\n",
            "Reached 93% validation accuracy so cancelling training!\n",
            "131/131 [==============================] - 41s 309ms/step - loss: 0.0782 - acc: 0.9712 - val_loss: 0.2023 - val_acc: 0.9307\n"
          ]
        }
      ],
      "source": [
        "from math import ceil\n",
        "\n",
        "#Train model\n",
        "history = model.fit(train_generator,\n",
        "                    epochs=100,\n",
        "                    steps_per_epoch=ceil((trainNo/tBatchSize)-1),\n",
        "                    validation_data=validation_generator,\n",
        "                    validation_steps= ceil((validNo/ vBatchSize)-1),\n",
        "                    callbacks=[callbacks],\n",
        "                    verbose = 1)"
      ]
    },
    {
      "cell_type": "code",
      "execution_count": null,
      "metadata": {
        "colab": {
          "base_uri": "https://localhost:8080/",
          "height": 298
        },
        "id": "vDEbdzdsdgv-",
        "outputId": "04609bf1-cbbf-4b75-dd60-63843e607794"
      },
      "outputs": [
        {
          "output_type": "display_data",
          "data": {
            "text/plain": [
              "<Figure size 432x288 with 1 Axes>"
            ],
            "image/png": "[encoded data removed]"
          },
          "metadata": {
            "needs_background": "light"
          }
        },
        {
          "output_type": "display_data",
          "data": {
            "text/plain": [
              "<Figure size 432x288 with 0 Axes>"
            ]
          },
          "metadata": {}
        }
      ],
      "source": [
        "#plot accuracy\n",
        "import matplotlib.pyplot as plt\n",
        "acc = history.history['acc']\n",
        "val_acc = history.history['val_acc']\n",
        "loss = history.history['loss']\n",
        "val_loss = history.history['val_loss']\n",
        "\n",
        "epochs = range(len(acc))\n",
        "\n",
        "plt.plot(epochs, acc, 'r', label = 'Training accuracy')\n",
        "plt.plot(epochs, val_acc, 'b', label='Validation accuracy')\n",
        "plt.title('Training and validation accuracy')\n",
        "plt.legend(loc=0)\n",
        "plt.figure()\n",
        "\n",
        "plt.show()"
      ]
    },
    {
      "cell_type": "code",
      "execution_count": null,
      "metadata": {
        "colab": {
          "base_uri": "https://localhost:8080/",
          "height": 510
        },
        "id": "ftwK1TjADPMo",
        "outputId": "952a754b-1fe6-411d-d8b0-fa10bbb030c2"
      },
      "outputs": [
        {
          "output_type": "stream",
          "name": "stdout",
          "text": [
            "Test Accuracy of Porn vs NonPorn: 0.8983333333333333\n",
            "Sensitivity: 0.91\n",
            "Specificity: 0.8866666666666667\n"
          ]
        },
        {
          "output_type": "display_data",
          "data": {
            "text/plain": [
              "<Figure size 720x504 with 2 Axes>"
            ],
            "image/png": "[encoded data removed]"
          },
          "metadata": {
            "needs_background": "light"
          }
        }
      ],
      "source": [
        "from keras.preprocessing.image import load_img, img_to_array\n",
        "from sklearn.metrics import confusion_matrix\n",
        "from sklearn.metrics import accuracy_score\n",
        "import numpy as np\n",
        "from keras.preprocessing import image\n",
        "import pandas as pd\n",
        "import seaborn as sn\n",
        "import matplotlib.pyplot as plt\n",
        "\n",
        "predictions = []\n",
        "truths = []\n",
        "\n",
        "\n",
        "for img in os.listdir(\"/content/drive/MyDrive/PoleVsExplicit/split/test/porn\"):\n",
        "  img = \"/content/drive/MyDrive/PoleVsExplicit/split/test/porn/\" + img\n",
        "  img = image.load_img(img, target_size=(240, 240))\n",
        "  img = np.expand_dims(img, axis=0)\n",
        "  #if value of prediction > 0.5, class is '1' (pornography)\n",
        "  predVal = lambda x: 'porn' if x > 0.5 else 'notPorn'\n",
        "  predictions.append(predVal(model.predict(img)))\n",
        "  truths.append(\"porn\")\n",
        "for img in os.listdir(\"/content/drive/MyDrive/PoleVsExplicit/split/test/notPorn/\"):\n",
        "  img = \"/content/drive/MyDrive/PoleVsExplicit/split/test/notPorn/\" + img\n",
        "  img = image.load_img(img, target_size=(240, 240))\n",
        "  img = np.expand_dims(img, axis=0)\n",
        "  #if value of prediction > 0.5, class is '1' (pornography)\n",
        "  predVal = lambda x: 'porn' if x > 0.5 else 'notPorn'\n",
        "  predictions.append(predVal(model.predict(img)))\n",
        "  truths.append(\"notPorn\")\n",
        "\n",
        "\n",
        "labs = ['notPorn', 'porn']\n",
        "\n",
        "#confusion matrix\n",
        "\n",
        "the_matrix = confusion_matrix(truths, predictions, labels=labs)\n",
        "tn,fp,fn,tp = the_matrix.ravel()\n",
        "\n",
        "\n",
        "df_cfm = pd.DataFrame(the_matrix, index = labs, columns = labs)\n",
        "plt.figure(figsize = (10,7))\n",
        "cfm_plot = sn.heatmap(df_cfm, annot=True, fmt='g',annot_kws={\"size\": 20})\n",
        "cfm_plot.set_title('PornOrNot Test Confusion Matrix')\n",
        "cfm_plot.set_xlabel('Predicted')\n",
        "cfm_plot.set_ylabel('True Label')\n",
        "\n",
        "sensitivity = tp / (tp + fn)\n",
        "specificity = tn / (tn + fp)\n",
        "\n",
        "\n",
        "print(\"Test Accuracy of Porn vs NonPorn:\", accuracy_score(truths, predictions))\n",
        "print(\"Sensitivity:\", sensitivity)\n",
        "print(\"Specificity:\", specificity)"
      ]
    },
    {
      "cell_type": "code",
      "execution_count": null,
      "metadata": {
        "colab": {
          "base_uri": "https://localhost:8080/",
          "height": 510
        },
        "id": "EU-BXzioEdrJ",
        "outputId": "60242106-afa7-4553-d5bf-c828d444c72c"
      },
      "outputs": [
        {
          "output_type": "stream",
          "name": "stdout",
          "text": [
            "Test Accuracy of Porn vs Pole: 0.928\n",
            "Sensitivity: 0.91\n",
            "Specificity: 1.0\n"
          ]
        },
        {
          "output_type": "display_data",
          "data": {
            "text/plain": [
              "<Figure size 720x504 with 2 Axes>"
            ],
            "image/png": "[encoded data removed]"
          },
          "metadata": {
            "needs_background": "light"
          }
        }
      ],
      "source": [
        "#assessing for pole moves = pornography?\n",
        "predictions = []\n",
        "truths = []\n",
        "\n",
        "\n",
        "for img in os.listdir(\"/content/drive/MyDrive/PoleVsExplicit/split/test/porn\"):\n",
        "  img = \"/content/drive/MyDrive/PoleVsExplicit/split/test/porn/\" + img\n",
        "  img = image.load_img(img, target_size=(240, 240))\n",
        "  img = np.expand_dims(img, axis=0)\n",
        "  #if value of prediction > 0.5, class is '1' (pornography)\n",
        "  predVal = lambda x: 'porn' if x > 0.5 else 'pole'\n",
        "  predictions.append(predVal(model.predict(img)))\n",
        "  truths.append(\"porn\")\n",
        "\n",
        "for dir in os.listdir(\"/content/drive/MyDrive/PoleVsExplicit/poleData2/PoleStatic\"):\n",
        "  for img in os.listdir(\"/content/drive/MyDrive/PoleVsExplicit/poleData2/PoleStatic/\" + dir):\n",
        "    img = \"/content/drive/MyDrive/PoleVsExplicit/poleData2/PoleStatic/\" + dir + \"/\" + img\n",
        "    img = image.load_img(img, target_size=(240, 240))\n",
        "    img = np.expand_dims(img, axis=0)\n",
        "    #if value of prediction > 0.5, class is '1' (pornography)\n",
        "    predVal = lambda x: 'porn' if x > 0.5 else 'pole'\n",
        "    predictions.append(predVal(model.predict(img)))\n",
        "    truths.append(\"pole\")\n",
        "\n",
        "\n",
        "\n",
        "labs = ['pole', 'porn']\n",
        "\n",
        "#confusion matrix\n",
        "\n",
        "the_matrix = confusion_matrix(truths, predictions, labels=labs)\n",
        "tn,fp,fn,tp = the_matrix.ravel()\n",
        "\n",
        "\n",
        "df_cfm = pd.DataFrame(the_matrix, index = labs, columns = labs)\n",
        "plt.figure(figsize = (10,7))\n",
        "cfm_plot = sn.heatmap(df_cfm, annot=True, fmt='g',annot_kws={\"size\": 20})\n",
        "cfm_plot.set_title('PornOrPole Test Confusion Matrix')\n",
        "cfm_plot.set_xlabel('Predicted')\n",
        "cfm_plot.set_ylabel('True Label')\n",
        "\n",
        "sensitivity = tp / (tp + fn)\n",
        "specificity = tn / (tn + fp)\n",
        "\n",
        "\n",
        "print(\"Test Accuracy of Porn vs Pole:\", accuracy_score(truths, predictions))\n",
        "print(\"Sensitivity:\", sensitivity)\n",
        "print(\"Specificity:\", specificity)"
      ]
    },
    {
      "cell_type": "code",
      "execution_count": null,
      "metadata": {
        "id": "HjGjxviLh4ub"
      },
      "outputs": [],
      "source": [
        "predictions = []\n",
        "truths = []\n",
        "for img in os.listdir(\"/content/drive/MyDrive/PoleVsExplicit/split/test/porn\"):\n",
        "  img = \"/content/drive/MyDrive/PoleVsExplicit/split/test/porn/\" + img\n",
        "  img = image.load_img(img, target_size=(240, 240))\n",
        "  img = np.expand_dims(img, axis=0)\n",
        "  predictions.append(model.predict(img))\n",
        "  truths.append(1)\n",
        "\n",
        "for dir in os.listdir(\"/content/drive/MyDrive/PoleVsExplicit/poleData2/PoleStatic\"):\n",
        "  for img in os.listdir(\"/content/drive/MyDrive/PoleVsExplicit/poleData2/PoleStatic/\" + dir):\n",
        "    img = \"/content/drive/MyDrive/PoleVsExplicit/poleData2/PoleStatic/\" + dir + \"/\" + img\n",
        "    img = image.load_img(img, target_size=(240, 240))\n",
        "    img = np.expand_dims(img, axis=0)\n",
        "    predictions.append(model.predict(img))\n",
        "    truths.append(0)\n",
        "\n",
        "\n",
        "#remove extra dimensions\n",
        "predictions = np.squeeze(predictions)\n"
      ]
    },
    {
      "cell_type": "code",
      "execution_count": null,
      "metadata": {
        "colab": {
          "base_uri": "https://localhost:8080/",
          "height": 312
        },
        "id": "ufkEB1G_h9u5",
        "outputId": "255426a3-2011-4a47-af11-5082fc253850"
      },
      "outputs": [
        {
          "output_type": "stream",
          "name": "stdout",
          "text": [
            "auc: 0.998\n"
          ]
        },
        {
          "output_type": "display_data",
          "data": {
            "text/plain": [
              "<Figure size 432x288 with 1 Axes>"
            ],
            "image/png": "[encoded data removed]"
          },
          "metadata": {
            "needs_background": "light"
          }
        }
      ],
      "source": [
        "#plot ROC cuv\n",
        "import matplotlib.pyplot as plt\n",
        "from sklearn.metrics import roc_curve, auc\n",
        "from sklearn.metrics import roc_auc_score\n",
        "\n",
        "plt.figure()\n",
        "fpr, tpr, _ = roc_curve(truths, predictions)\n",
        "roc_auc = auc(fpr, tpr)\n",
        "\n",
        "\n",
        "print(\"auc:\",auc(fpr,tpr)) \n",
        "\n",
        "plt.plot(\n",
        "    fpr,\n",
        "    tpr,\n",
        "    color=\"pink\",\n",
        "    lw=3,\n",
        "    label=\"ROC curve (area = %0.2f)\" % roc_auc,\n",
        ")\n",
        "plt.plot([0, 1], [0, 1], color=\"navy\", lw=3, linestyle=\"--\")\n",
        "plt.xlim([-0.05, 1.0])\n",
        "plt.ylim([0.0, 1.05])\n",
        "plt.xlabel(\"False Positive Rate\")\n",
        "plt.ylabel(\"True Positive Rate\")\n",
        "plt.title(\"ROC for Pornography versus Pole classifier\")\n",
        "plt.legend(loc=\"lower right\")\n",
        "plt.show()\n",
        "#low fpr and tpr is not always the \"best\""
      ]
    },
    {
      "cell_type": "code",
      "execution_count": null,
      "metadata": {
        "colab": {
          "base_uri": "https://localhost:8080/",
          "height": 510
        },
        "id": "zTh0h5ajeGzS",
        "outputId": "8ec2b041-6f01-49cc-8dad-88d5d6d277d3"
      },
      "outputs": [
        {
          "output_type": "stream",
          "name": "stdout",
          "text": [
            "Test Accuracy of Porn vs Pole: 0.984\n",
            "Sensitivity: 0.99\n",
            "Specificity: 0.96\n"
          ]
        },
        {
          "output_type": "display_data",
          "data": {
            "text/plain": [
              "<Figure size 720x504 with 2 Axes>"
            ],
            "image/png": "[encoded data removed]"
          },
          "metadata": {
            "needs_background": "light"
          }
        }
      ],
      "source": [
        "#find better discrimination threshold based off on ROC\n",
        "\n",
        "#convert probabilities to classes based on threshold\n",
        "predVal = lambda x: 'porn' if x > 0.03 else 'pole'\n",
        "predClass = [predVal(x) for x in predictions]\n",
        "\n",
        "#convert 1 and 0s back to string values\n",
        "stringConvert = lambda x: 'porn' if x == 1 else 'pole'\n",
        "trueClass = [stringConvert(x) for x in truths]\n",
        "\n",
        "labs = ['pole', 'porn']\n",
        "\n",
        "#confusion matrix\n",
        "\n",
        "the_matrix = confusion_matrix(trueClass, predClass, labels=labs)\n",
        "tn,fp,fn,tp = the_matrix.ravel()\n",
        "\n",
        "\n",
        "df_cfm = pd.DataFrame(the_matrix, index = labs, columns = labs)\n",
        "plt.figure(figsize = (10,7))\n",
        "cfm_plot = sn.heatmap(df_cfm, annot=True, fmt='g',annot_kws={\"size\": 20})\n",
        "cfm_plot.set_title('PornOrPole Test Confusion Matrix')\n",
        "cfm_plot.set_xlabel('Predicted')\n",
        "cfm_plot.set_ylabel('True Label')\n",
        "\n",
        "sensitivity = tp / (tp + fn)\n",
        "specificity = tn / (tn + fp)\n",
        "\n",
        "\n",
        "print(\"Test Accuracy of Porn vs Pole:\", accuracy_score(trueClass, predClass))\n",
        "print(\"Sensitivity:\", sensitivity)\n",
        "print(\"Specificity:\", specificity)\n",
        "#the ethical debate of spec and sens"
      ]
    }
  ],
  "metadata": {
    "accelerator": "GPU",
    "colab": {
      "collapsed_sections": [],
      "name": "OptimalSimultaneouslyWithPole.ipynb",
      "provenance": []
    },
    "kernelspec": {
      "display_name": "Python 3",
      "name": "python3"
    },
    "language_info": {
      "name": "python"
    }
  },
  "nbformat": 4,
  "nbformat_minor": 0
}